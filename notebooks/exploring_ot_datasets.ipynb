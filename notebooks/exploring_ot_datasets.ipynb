{
 "cells": [
  {
   "cell_type": "markdown",
   "id": "b1bb0043",
   "metadata": {},
   "source": [
    "# Exploration of Open Targets datasets\n",
    "\n",
    "The purpose of this notebook is to explore the Open Targets datasets available at [Open Targets Data Downloads](https://platform.opentargets.org/downloads).\n",
    "\n",
    "Open Targets provides a variety of datasets that can be used for drug target identification and prioritization.\n",
    "The datasets include information on diseases, targets, evidence, and associations.\n",
    "\n",
    "## Dataset sources\n",
    "\n",
    "The datasets are available as parquet files on:\n",
    "\n",
    "- EBI FTP: `ftp://ftp.ebi.ac.uk/pub/databases/opentargets/platform/{release}output/{dataset_name}`\n",
    "- Google Cloud Storage `gs://open-targets-data-releases/{release}/output/{dataset_name}`\n",
    "\n",
    "Where `{release}` is the release version of the Open Targets Platform (e.g., `23.06`), and `{dataset_name}` is the name of the dataset (e.g., `disease`, `target`, `evidence`, etc.).\n"
   ]
  },
  {
   "cell_type": "markdown",
   "id": "3859033b",
   "metadata": {
    "vscode": {
     "languageId": "shellscript"
    }
   },
   "source": [
    "## Listing datasets\n",
    "\n",
    "One can seek the available datasets\n",
    "\n",
    "- from the [Open Targets Data Downloads](https://platform/opentargets.org/downloads)\n",
    "- listing the FTP server\n",
    "- listing the GCS bucket\n"
   ]
  },
  {
   "cell_type": "code",
   "execution_count": 12,
   "id": "1413f390",
   "metadata": {
    "vscode": {
     "languageId": "shellscript"
    }
   },
   "outputs": [
    {
     "name": "stdout",
     "output_type": "stream",
     "text": [
      "association_by_datasource_direct\n",
      "association_by_datasource_indirect\n",
      "association_by_datatype_direct\n",
      "association_by_datatype_indirect\n",
      "association_by_overall_indirect\n",
      "association_overall_direct\n",
      "biosample\n",
      "colocalisation_coloc\n",
      "colocalisation_ecaviar\n",
      "credible_set\n",
      "disease\n",
      "disease_hpo\n",
      "disease_phenotype\n",
      "drug_indication\n",
      "drug_mechanism_of_action\n",
      "drug_molecule\n",
      "drug_warning\n",
      "evidence\n",
      "expression\n",
      "go\n",
      "interaction\n",
      "interaction_evidence\n",
      "interval\n",
      "known_drug\n",
      "l2g_prediction\n",
      "literature\n",
      "literature_vector\n",
      "mouse_phenotype\n",
      "openfda_significant_adverse_drug_reactions\n",
      "openfda_significant_adverse_target_reactions\n",
      "pharmacogenomics\n",
      "reactome\n",
      "so\n",
      "study\n",
      "target\n",
      "target_essentiality\n",
      "target_prioritisation\n",
      "variant\n"
     ]
    }
   ],
   "source": [
    "## Listing available datasets\n",
    "\n",
    "!curl -l ftp://ftp.ebi.ac.uk/pub/databases/opentargets/platform/25.09/output/\n"
   ]
  },
  {
   "cell_type": "code",
   "execution_count": 13,
   "id": "e4950cec",
   "metadata": {
    "vscode": {
     "languageId": "shellscript"
    }
   },
   "outputs": [],
   "source": [
    "# !gcloud storage ls --billing-project=open-targets-genetics-dev gs://open-targets-data-releases/25.09/output/\n"
   ]
  },
  {
   "cell_type": "markdown",
   "id": "46d0471a",
   "metadata": {},
   "source": [
    "## Downloading datasets\n",
    "\n",
    "Datasets can be downloaded using `gcloud storage` from google cloud or `rsync` from the EBI FTP server.\n",
    "\n",
    "Below you can find examples of how to download the `credible_set` dataset using both methods.\n"
   ]
  },
  {
   "cell_type": "code",
   "execution_count": 14,
   "id": "590ab450",
   "metadata": {
    "vscode": {
     "languageId": "shellscript"
    }
   },
   "outputs": [
    {
     "name": "stdout",
     "output_type": "stream",
     "text": [
      "Transfer starting: 27 files\n",
      "credible_set/\n",
      "\n",
      "sent 22 bytes  received 1835 bytes  18570000 bytes/sec\n",
      "total size is 2588111695  speedup is 1393705.06\n"
     ]
    }
   ],
   "source": [
    "# rsync from EBI FTP\n",
    "!mkdir -p ../tmp/\n",
    "!rsync -rpltvz --delete rsync.ebi.ac.uk::pub/databases/opentargets/platform/25.09/output/credible_set ../tmp/.\n"
   ]
  },
  {
   "cell_type": "code",
   "execution_count": 15,
   "id": "7249f2b1",
   "metadata": {
    "vscode": {
     "languageId": "shellscript"
    }
   },
   "outputs": [],
   "source": [
    "# gcloud storage\n",
    "# !gcloud auth login\n",
    "# !mkdir -p ../tmp/\n",
    "# !gcloud storage rsync -r \\\n",
    "#     --billing-project=open-targets-genetics-dev \\\n",
    "#     --recursive \\\n",
    "#     --delete-unmatched-destination-objects \\\n",
    "#     gs://open-targets-data-releases/25.09/output/credible_set ../tmp/credible_set\n"
   ]
  },
  {
   "cell_type": "markdown",
   "id": "7bc06f8a",
   "metadata": {
    "vscode": {
     "languageId": "shellscript"
    }
   },
   "source": [
    "The datasets are represented by directories with parquet partitions (natively written with pyspark)\n"
   ]
  },
  {
   "cell_type": "markdown",
   "id": "bf1a2751",
   "metadata": {},
   "source": [
    "## Loading datasets\n",
    "\n",
    "To load the data one can use:\n",
    "\n",
    "- pyspark (native for Open Targets)\n",
    "- polars\n",
    "- dask\n",
    "\n",
    "!Note:\n",
    "Reading full dataset with pandas may not be feasible due to the large size, refer to the frameworks that can use the lazy evaluation\n"
   ]
  },
  {
   "cell_type": "markdown",
   "id": "5982b784",
   "metadata": {},
   "source": [
    "#### Pyspark\n"
   ]
  },
  {
   "cell_type": "code",
   "execution_count": 16,
   "id": "0f85c165",
   "metadata": {},
   "outputs": [
    {
     "data": {
      "text/html": [
       "\n",
       "            <div>\n",
       "                <p><b>SparkSession - in-memory</b></p>\n",
       "                \n",
       "        <div>\n",
       "            <p><b>SparkContext</b></p>\n",
       "\n",
       "            <p><a href=\"http://mib117351s.internal.sanger.ac.uk:4040\">Spark UI</a></p>\n",
       "\n",
       "            <dl>\n",
       "              <dt>Version</dt>\n",
       "                <dd><code>v3.5.6</code></dd>\n",
       "              <dt>Master</dt>\n",
       "                <dd><code>local[*]</code></dd>\n",
       "              <dt>AppName</dt>\n",
       "                <dd><code>Exploring OT Datasets</code></dd>\n",
       "            </dl>\n",
       "        </div>\n",
       "        \n",
       "            </div>\n",
       "        "
      ],
      "text/plain": [
       "<pyspark.sql.session.SparkSession at 0x107e79f10>"
      ]
     },
     "execution_count": 16,
     "metadata": {},
     "output_type": "execute_result"
    }
   ],
   "source": [
    "### Pyspark - recommended!\n",
    "from pyspark.sql import SparkSession\n",
    "\n",
    "spark = (\n",
    "    SparkSession.builder.appName(\"Exploring OT Datasets\")\n",
    "    .config(\"spark.driver.memory\", \"10g\")\n",
    "    .getOrCreate()\n",
    ")\n",
    "spark\n"
   ]
  },
  {
   "cell_type": "code",
   "execution_count": 17,
   "id": "27806282",
   "metadata": {},
   "outputs": [
    {
     "name": "stdout",
     "output_type": "stream",
     "text": [
      "+--------------------+--------------------+--------------+----------+--------+--------------------+--------+------+--------------+--------------+-------------------------------+-------------+-------------------+---------------+-----------------+----------------+------------------+------------+-----------+----------+--------+----------+-----+--------------------+--------------------+---------+----------+\n",
      "|        studyLocusId|             studyId|     variantId|chromosome|position|              region|    beta|zScore|pValueMantissa|pValueExponent|effectAlleleFrequencyFromSource|standardError|subStudyDescription|qualityControls|finemappingMethod|credibleSetIndex|credibleSetlog10BF|purityMeanR2|purityMinR2|locusStart|locusEnd|sampleSize|ldSet|               locus|          confidence|studyType|isTransQtl|\n",
      "+--------------------+--------------------+--------------+----------+--------+--------------------+--------+------+--------------+--------------+-------------------------------+-------------+-------------------+---------------+-----------------+----------------+------------------+------------+-----------+----------+--------+----------+-----+--------------------+--------------------+---------+----------+\n",
      "|fef30f1c985ce1a3c...|gtex_leafcutter_e...|17_6616111_A_C|        17| 6616111|chr17:5615474-761...|0.551628|  NULL|         3.994|           -13|                           NULL|    0.0737508|               NULL|             []|            SuSie|               1|11.272614479064941|        NULL|       NULL|      NULL|    NULL|      NULL| NULL|[{true, true, 24....|SuSiE fine-mapped...|     sqtl|     false|\n",
      "+--------------------+--------------------+--------------+----------+--------+--------------------+--------+------+--------------+--------------+-------------------------------+-------------+-------------------+---------------+-----------------+----------------+------------------+------------+-----------+----------+--------+----------+-----+--------------------+--------------------+---------+----------+\n",
      "only showing top 1 row\n",
      "\n"
     ]
    }
   ],
   "source": [
    "cs = spark.read.parquet(\"../tmp/credible_set\")\n",
    "cs.show(1)\n"
   ]
  },
  {
   "cell_type": "markdown",
   "id": "b06c0578",
   "metadata": {},
   "source": [
    "#### Polars\n"
   ]
  },
  {
   "cell_type": "code",
   "execution_count": 18,
   "id": "31c89801",
   "metadata": {},
   "outputs": [
    {
     "data": {
      "text/html": [
       "<div><style>\n",
       ".dataframe > thead > tr,\n",
       ".dataframe > tbody > tr {\n",
       "  text-align: right;\n",
       "  white-space: pre-wrap;\n",
       "}\n",
       "</style>\n",
       "<small>shape: (1, 27)</small><table border=\"1\" class=\"dataframe\"><thead><tr><th>studyLocusId</th><th>studyId</th><th>variantId</th><th>chromosome</th><th>position</th><th>region</th><th>beta</th><th>zScore</th><th>pValueMantissa</th><th>pValueExponent</th><th>effectAlleleFrequencyFromSource</th><th>standardError</th><th>subStudyDescription</th><th>qualityControls</th><th>finemappingMethod</th><th>credibleSetIndex</th><th>credibleSetlog10BF</th><th>purityMeanR2</th><th>purityMinR2</th><th>locusStart</th><th>locusEnd</th><th>sampleSize</th><th>ldSet</th><th>locus</th><th>confidence</th><th>studyType</th><th>isTransQtl</th></tr><tr><td>str</td><td>str</td><td>str</td><td>str</td><td>i32</td><td>str</td><td>f64</td><td>f64</td><td>f32</td><td>i32</td><td>f32</td><td>f64</td><td>str</td><td>list[str]</td><td>str</td><td>i32</td><td>f64</td><td>f64</td><td>f64</td><td>i32</td><td>i32</td><td>i32</td><td>list[struct[2]]</td><td>list[struct[10]]</td><td>str</td><td>str</td><td>bool</td></tr></thead><tbody><tr><td>&quot;e62f70cd4aa982aad471ba67e3915e…</td><td>&quot;gtex_tx_brain_cerebellum_enst0…</td><td>&quot;1_14677_G_A&quot;</td><td>&quot;1&quot;</td><td>14677</td><td>&quot;chr1:-826138-1173862&quot;</td><td>1.17782</td><td>null</td><td>9.527</td><td>-8</td><td>null</td><td>0.212414</td><td>null</td><td>[]</td><td>&quot;SuSie&quot;</td><td>1</td><td>6.214039</td><td>null</td><td>null</td><td>null</td><td>null</td><td>null</td><td>null</td><td>[{true,true,14.308355,0.95,&quot;1_14677_G_A&quot;,9.527,-8,1.17782,0.212414,null}]</td><td>&quot;SuSiE fine-mapped credible set…</td><td>&quot;eqtl&quot;</td><td>false</td></tr></tbody></table></div>"
      ],
      "text/plain": [
       "shape: (1, 27)\n",
       "┌───────────┬───────────┬───────────┬───────────┬───┬───────────┬───────────┬───────────┬──────────┐\n",
       "│ studyLocu ┆ studyId   ┆ variantId ┆ chromosom ┆ … ┆ locus     ┆ confidenc ┆ studyType ┆ isTransQ │\n",
       "│ sId       ┆ ---       ┆ ---       ┆ e         ┆   ┆ ---       ┆ e         ┆ ---       ┆ tl       │\n",
       "│ ---       ┆ str       ┆ str       ┆ ---       ┆   ┆ list[stru ┆ ---       ┆ str       ┆ ---      │\n",
       "│ str       ┆           ┆           ┆ str       ┆   ┆ ct[10]]   ┆ str       ┆           ┆ bool     │\n",
       "╞═══════════╪═══════════╪═══════════╪═══════════╪═══╪═══════════╪═══════════╪═══════════╪══════════╡\n",
       "│ e62f70cd4 ┆ gtex_tx_b ┆ 1_14677_G ┆ 1         ┆ … ┆ [{true,tr ┆ SuSiE fin ┆ eqtl      ┆ false    │\n",
       "│ aa982aad4 ┆ rain_cere ┆ _A        ┆           ┆   ┆ ue,14.308 ┆ e-mapped  ┆           ┆          │\n",
       "│ 71ba67e39 ┆ bellum_en ┆           ┆           ┆   ┆ 355,0.95, ┆ credible  ┆           ┆          │\n",
       "│ 15e…      ┆ st0…      ┆           ┆           ┆   ┆ \"1_…      ┆ set…      ┆           ┆          │\n",
       "└───────────┴───────────┴───────────┴───────────┴───┴───────────┴───────────┴───────────┴──────────┘"
      ]
     },
     "execution_count": 18,
     "metadata": {},
     "output_type": "execute_result"
    }
   ],
   "source": [
    "### Polars\n",
    "import polars as pl\n",
    "\n",
    "cs = pl.read_parquet(\n",
    "    \"../tmp/credible_set/*.parquet\"\n",
    ")  # Need to use glob for reading all parquet partitions\n",
    "cs.head(1)\n"
   ]
  },
  {
   "cell_type": "markdown",
   "id": "299ba0eb",
   "metadata": {},
   "source": [
    "#### Dask\n"
   ]
  },
  {
   "cell_type": "code",
   "execution_count": 19,
   "id": "a185250c",
   "metadata": {},
   "outputs": [
    {
     "name": "stderr",
     "output_type": "stream",
     "text": [
      "/Users/ss60/Projects/notebooks/.venv/lib/python3.12/site-packages/distributed/node.py:187: UserWarning: Port 8787 is already in use.\n",
      "Perhaps you already have a cluster running?\n",
      "Hosting the HTTP server on port 55292 instead\n",
      "  warnings.warn(\n"
     ]
    }
   ],
   "source": [
    "### Dask\n",
    "\n",
    "from dask.distributed import Client\n",
    "\n",
    "client = Client(n_workers=1, threads_per_worker=4, processes=True, memory_limit=\"10GB\")\n"
   ]
  },
  {
   "cell_type": "code",
   "execution_count": 20,
   "id": "bd34fcf2",
   "metadata": {},
   "outputs": [
    {
     "data": {
      "text/html": [
       "<div>\n",
       "<style scoped>\n",
       "    .dataframe tbody tr th:only-of-type {\n",
       "        vertical-align: middle;\n",
       "    }\n",
       "\n",
       "    .dataframe tbody tr th {\n",
       "        vertical-align: top;\n",
       "    }\n",
       "\n",
       "    .dataframe thead th {\n",
       "        text-align: right;\n",
       "    }\n",
       "</style>\n",
       "<table border=\"1\" class=\"dataframe\">\n",
       "  <thead>\n",
       "    <tr style=\"text-align: right;\">\n",
       "      <th></th>\n",
       "      <th>studyLocusId</th>\n",
       "      <th>studyId</th>\n",
       "      <th>variantId</th>\n",
       "      <th>chromosome</th>\n",
       "      <th>position</th>\n",
       "      <th>region</th>\n",
       "      <th>beta</th>\n",
       "      <th>zScore</th>\n",
       "      <th>pValueMantissa</th>\n",
       "      <th>pValueExponent</th>\n",
       "      <th>...</th>\n",
       "      <th>purityMeanR2</th>\n",
       "      <th>purityMinR2</th>\n",
       "      <th>locusStart</th>\n",
       "      <th>locusEnd</th>\n",
       "      <th>sampleSize</th>\n",
       "      <th>ldSet</th>\n",
       "      <th>locus</th>\n",
       "      <th>confidence</th>\n",
       "      <th>studyType</th>\n",
       "      <th>isTransQtl</th>\n",
       "    </tr>\n",
       "  </thead>\n",
       "  <tbody>\n",
       "    <tr>\n",
       "      <th>0</th>\n",
       "      <td>e62f70cd4aa982aad471ba67e3915ec3</td>\n",
       "      <td>gtex_tx_brain_cerebellum_enst00000491962</td>\n",
       "      <td>1_14677_G_A</td>\n",
       "      <td>1</td>\n",
       "      <td>14677</td>\n",
       "      <td>chr1:-826138-1173862</td>\n",
       "      <td>1.17782</td>\n",
       "      <td>NaN</td>\n",
       "      <td>9.527</td>\n",
       "      <td>-8</td>\n",
       "      <td>...</td>\n",
       "      <td>NaN</td>\n",
       "      <td>NaN</td>\n",
       "      <td>NaN</td>\n",
       "      <td>NaN</td>\n",
       "      <td>NaN</td>\n",
       "      <td>None</td>\n",
       "      <td>[{'is95CredibleSet': True, 'is99CredibleSet': ...</td>\n",
       "      <td>SuSiE fine-mapped credible set with in-sample LD</td>\n",
       "      <td>eqtl</td>\n",
       "      <td>False</td>\n",
       "    </tr>\n",
       "  </tbody>\n",
       "</table>\n",
       "<p>1 rows × 27 columns</p>\n",
       "</div>"
      ],
      "text/plain": [
       "                       studyLocusId                                   studyId  \\\n",
       "0  e62f70cd4aa982aad471ba67e3915ec3  gtex_tx_brain_cerebellum_enst00000491962   \n",
       "\n",
       "     variantId chromosome  position                region     beta  zScore  \\\n",
       "0  1_14677_G_A          1     14677  chr1:-826138-1173862  1.17782     NaN   \n",
       "\n",
       "   pValueMantissa  pValueExponent  ...  purityMeanR2  purityMinR2 locusStart  \\\n",
       "0           9.527              -8  ...           NaN          NaN        NaN   \n",
       "\n",
       "  locusEnd sampleSize  ldSet  \\\n",
       "0      NaN        NaN   None   \n",
       "\n",
       "                                               locus  \\\n",
       "0  [{'is95CredibleSet': True, 'is99CredibleSet': ...   \n",
       "\n",
       "                                         confidence  studyType  isTransQtl  \n",
       "0  SuSiE fine-mapped credible set with in-sample LD       eqtl       False  \n",
       "\n",
       "[1 rows x 27 columns]"
      ]
     },
     "execution_count": 20,
     "metadata": {},
     "output_type": "execute_result"
    }
   ],
   "source": [
    "import dask.dataframe as dd\n",
    "\n",
    "cs = dd.read_parquet(\"../tmp/credible_set/*.parquet\", engine=\"pyarrow\")\n",
    "cs.head(1)\n"
   ]
  }
 ],
 "metadata": {
  "kernelspec": {
   "display_name": "notebooks",
   "language": "python",
   "name": "python3"
  },
  "language_info": {
   "codemirror_mode": {
    "name": "ipython",
    "version": 3
   },
   "file_extension": ".py",
   "mimetype": "text/x-python",
   "name": "python",
   "nbconvert_exporter": "python",
   "pygments_lexer": "ipython3",
   "version": "3.12.9"
  }
 },
 "nbformat": 4,
 "nbformat_minor": 5
}
