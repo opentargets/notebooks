{
  "cells": [
    {
      "cell_type": "markdown",
      "metadata": {},
      "source": [
        "# ChEMBL Evidence Data Download\n"
      ]
    },
    {
      "cell_type": "markdown",
      "metadata": {},
      "source": [
        "This notebook downloads ChEMBL evidence data from the Open Targets Platform using rsync. The data includes drug-target associations and related evidence from the ChEMBL database.\n"
      ]
    },
    {
      "cell_type": "markdown",
      "metadata": {},
      "source": [
        "## 1. Download ChEMBL Evidence Data\n"
      ]
    },
    {
      "cell_type": "code",
      "execution_count": 61,
      "metadata": {},
      "outputs": [
        {
          "name": "stdout",
          "output_type": "stream",
          "text": [
            "Downloading ChEMBL evidence data from Open Targets Platform release 25.09...\n"
          ]
        },
        {
          "name": "stdout",
          "output_type": "stream",
          "text": [
            "Transfer starting: 101 files\n",
            "\n",
            "sent 16 bytes  received 7031 bytes  70470000 bytes/sec\n",
            "total size is 47051903  speedup is 6676.87\n",
            "Downloading mechanism of action data from Open Targets Platform release 25.09...\n",
            "Transfer starting: 3 files\n",
            "\n",
            "sent 16 bytes  received 177 bytes  1930000 bytes/sec\n",
            "total size is 478223  speedup is 2477.83\n",
            "Downloading molecule data from Open Targets Platform release 25.09...\n",
            "Transfer starting: 3 files\n",
            "\n",
            "sent 16 bytes  received 166 bytes  1820000 bytes/sec\n",
            "total size is 2275731  speedup is 12503.95\n",
            "Download completed!\n"
          ]
        }
      ],
      "source": [
        "%%bash\n",
        "release=\"25.09\"\n",
        "source_id=\"chembl\"\n",
        "evidence_path=\"evidence/sourceId=${source_id}\"\n",
        "\n",
        "# Create output directory\n",
        "mkdir -p ../tmp/evidence_chembl\n",
        "\n",
        "# Download ChEMBL evidence data using rsync\n",
        "echo \"Downloading ChEMBL evidence data from Open Targets Platform release ${release}...\"\n",
        "rsync -rpltvz --delete rsync.ebi.ac.uk::pub/databases/opentargets/platform/${release}/output/${evidence_path} ../tmp/evidence_chembl\n",
        "\n",
        "# Download mechanism of action data\n",
        "echo \"Downloading mechanism of action data from Open Targets Platform release ${release}...\"\n",
        "rsync -rpltvz --delete rsync.ebi.ac.uk::pub/databases/opentargets/platform/${release}/output/drug_mechanism_of_action ../tmp/\n",
        "\n",
        "# Download molecule data\n",
        "echo \"Downloading molecule data from Open Targets Platform release ${release}...\"\n",
        "rsync -rpltvz --delete rsync.ebi.ac.uk::pub/databases/opentargets/platform/${release}/output/drug_molecule ../tmp/\n",
        "\n",
        "echo \"Download completed!\""
      ]
    },
    {
      "cell_type": "markdown",
      "metadata": {},
      "source": [
        "2. **Python environment and Spark session**"
      ]
    },
    {
      "cell_type": "code",
      "execution_count": 62,
      "metadata": {},
      "outputs": [],
      "source": [
        "import pyspark.sql.functions as f\n",
        "from pyspark.sql import SparkSession\n",
        "\n",
        "# Starting a Spark session\n",
        "spark = SparkSession.builder.config(\"spark.driver.memory\", \"8g\").getOrCreate()"
      ]
    },
    {
      "cell_type": "markdown",
      "metadata": {},
      "source": [
        "3. **Read relevant datasets**"
      ]
    },
    {
      "cell_type": "code",
      "execution_count": null,
      "metadata": {},
      "outputs": [
        {
          "name": "stdout",
          "output_type": "stream",
          "text": [
            "+-------------+-----------------------------------------------------------------------+-------------+---------------+\n",
            "|drugId       |mechanismOfAction                                                      |actionType   |targetId       |\n",
            "+-------------+-----------------------------------------------------------------------+-------------+---------------+\n",
            "|CHEMBL2424780|Toll-like receptor 7 activator                                         |ACTIVATOR    |ENSG00000196664|\n",
            "|CHEMBL1963249|Ghrelin receptor agonist                                               |AGONIST      |ENSG00000121853|\n",
            "|CHEMBL4594542|IL22 Receptor agonist                                                  |AGONIST      |ENSG00000142677|\n",
            "|CHEMBL1201540|Insulin receptor agonist                                               |AGONIST      |ENSG00000171105|\n",
            "|CHEMBL2108973|Insulin receptor agonist                                               |AGONIST      |ENSG00000171105|\n",
            "|CHEMBL1201777|Mu opioid receptor agonist                                             |AGONIST      |ENSG00000112038|\n",
            "|CHEMBL3544958|Peroxisome proliferator-activated receptor delta agonist               |AGONIST      |ENSG00000112033|\n",
            "|CHEMBL1201616|Secretin receptor agonist                                              |AGONIST      |ENSG00000080293|\n",
            "|CHEMBL2107846|Tumor necrosis factor receptor superfamily member 10B agonist          |AGONIST      |ENSG00000120889|\n",
            "|CHEMBL1200787|Adrenergic receptor alpha antagonist                                   |ANTAGONIST   |ENSG00000274286|\n",
            "|CHEMBL753    |Adrenergic receptor alpha antagonist                                   |ANTAGONIST   |ENSG00000184160|\n",
            "|CHEMBL2107339|Adrenergic receptor alpha-2 antagonist                                 |ANTAGONIST   |ENSG00000184160|\n",
            "|CHEMBL1201216|Alpha-1a adrenergic receptor antagonist                                |ANTAGONIST   |ENSG00000120907|\n",
            "|CHEMBL546    |Beta-1 adrenergic receptor antagonist                                  |ANTAGONIST   |ENSG00000043591|\n",
            "|CHEMBL1200916|D2-like dopamine receptor antagonist                                   |ANTAGONIST   |ENSG00000149295|\n",
            "|CHEMBL1200951|Dopamine D2 receptor antagonist                                        |ANTAGONIST   |ENSG00000149295|\n",
            "|CHEMBL37744  |Serotonin (5-HT) receptor antagonist                                   |ANTAGONIST   |ENSG00000148680|\n",
            "|CHEMBL2108357|CD22 binding agent                                                     |BINDING AGENT|ENSG00000012124|\n",
            "|CHEMBL2108818|Carcinoembryonic antigen-related cell adhesion molecule 5 binding agent|BINDING AGENT|ENSG00000105388|\n",
            "|CHEMBL4650295|Tyrosine-protein kinase receptor FLT3 binding agent                    |BINDING AGENT|ENSG00000122025|\n",
            "+-------------+-----------------------------------------------------------------------+-------------+---------------+\n",
            "only showing top 20 rows\n",
            "\n"
          ]
        }
      ],
      "source": [
        "# T-D-Dr evidence\n",
        "chembl = spark.read.parquet(\"../tmp/evidence_chembl\")\n",
        "# chembl.printSchema()\n",
        "\n",
        "# Drug molecule information\n",
        "molecule = spark.read.parquet(\"../tmp/drug_molecule\")\n",
        "# molecule.printSchema()\n",
        "\n",
        "# Drug molecule mechnanism of action\n",
        "chembl_moa = spark.read.parquet(\"../tmp/drug_mechanism_of_action\")\n",
        "# chembl_moa.printSchema()\n",
        "\n",
        "# Drug molecule mechanism of action\n",
        "moas = chembl_moa.select(\n",
        "    f.explode(\"chemblIds\").alias(\"drugId\"),\n",
        "    \"mechanismOfAction\",\n",
        "    \"actionType\",\n",
        "    f.explode(\"targets\").alias(\"targetId\"),\n",
        ").distinct()\n",
        "moas.show(truncate=False)"
      ]
    },
    {
      "cell_type": "markdown",
      "metadata": {},
      "source": [
        "# Extract relevant information"
      ]
    },
    {
      "cell_type": "markdown",
      "metadata": {},
      "source": [
        "## Column Descriptions\n",
        "\n",
        "The following columns are selected from the joined DataFrame combining ChEMBL evidence data, drug mechanism of action, and molecule information. These column descriptions are based on the Open Targets Platform schema documentation available in the [croissant file](https://platform.opentargets.org/downloads):\n",
        "\n",
        "### Core Identifiers\n",
        "- **targetId**: Ensembl gene identifier for the target protein (e.g., ENSG00000000938)\n",
        "- **diseaseId**: Disease identifier from EFO (Experimental Factor Ontology) (e.g., EFO_0000707)\n",
        "- **drugId**: ChEMBL compound identifier (e.g., CHEMBL1421)\n",
        "\n",
        "### Drug Information\n",
        "- **name**: Drug name or compound name (e.g., DASATINIB)\n",
        "- **mechanismOfAction**: Detailed description of how the drug acts on the target (e.g., \"SRC inhibitor\")\n",
        "- **actionType**: Type of pharmacological action (e.g., INHIBITOR, AGONIST, ANTAGONIST, BLOCKER)\n",
        "- **variantEffect**: This is a simplification of the `actionType` specifying whether the effect of the drug on the target can be interpreted as a loss of function (LoF) or gain of function (GoF).\n",
        "\n",
        "### Clinical Trial Information\n",
        "- **clinicalPhase**: Clinical trial phase indicating the stage of clinical development\n",
        "- **clinicalStatus**: Current status of the clinical trial (e.g., \"Recruiting\", \"Completed\", \"Active, not recruiting\")\n",
        "- **studyStartDate**: Date when the clinical study started (YYYY-MM-DD format)\n",
        "- **studyStopReason**: Reason why the study was stopped (if applicable)\n",
        "- **studyStopReasonCategories**: Categorized reasons for study termination\n",
        "\n",
        "\n",
        "### Additional Resources\n",
        "- **urls**: Array of URLs providing additional information about the study, typically including ClinicalTrials.gov links"
      ]
    },
    {
      "cell_type": "code",
      "execution_count": 75,
      "metadata": {},
      "outputs": [
        {
          "name": "stdout",
          "output_type": "stream",
          "text": [
            "+---------------+-------------+-------------+--------------------+--------------------+--------------------+-------------+-------------+--------------------+--------------+---------------+-------------------------+--------------------+\n",
            "|       targetId|    diseaseId|       drugId|                name|   mechanismOfAction|          actionType|clinicalPhase|variantEffect|      clinicalStatus|studyStartDate|studyStopReason|studyStopReasonCategories|                urls|\n",
            "+---------------+-------------+-------------+--------------------+--------------------+--------------------+-------------+-------------+--------------------+--------------+---------------+-------------------------+--------------------+\n",
            "|ENSG00000000938|  EFO_0000707|   CHEMBL1421|           DASATINIB|       SRC inhibitor|           INHIBITOR|          2.0|          LoF|          Recruiting|    2023-02-05|           NULL|                     NULL|[{ClinicalTrials,...|\n",
            "|ENSG00000004468|  EFO_0000203|CHEMBL3545131|          ISATUXIMAB|Lymphocyte differ...|           INHIBITOR|          2.0|          LoF|          Recruiting|    2021-06-08|           NULL|                     NULL|[{ClinicalTrials,...|\n",
            "|ENSG00000004468|  EFO_0000203|CHEMBL1743007|         DARATUMUMAB|Lymphocyte differ...|           INHIBITOR|          2.0|          LoF|Active, not recru...|    2017-11-24|           NULL|                     NULL|[{ClinicalTrials,...|\n",
            "|ENSG00000004779|  EFO_1001249|   CHEMBL1431|           METFORMIN|Mitochondrial com...|           INHIBITOR|          2.0|          LoF|      Unknown status|    2007-04-01|           NULL|                     NULL|[{ClinicalTrials,...|\n",
            "|ENSG00000004779|  EFO_1001249|   CHEMBL1431|           METFORMIN|Mitochondrial com...|           INHIBITOR|          1.0|          LoF|           Completed|    2021-10-05|           NULL|                     NULL|[{ClinicalTrials,...|\n",
            "|ENSG00000007314|  EFO_0009430|     CHEMBL79|           LIDOCAINE|Sodium channel al...|             BLOCKER|          4.0|          LoF|           Completed|    2008-11-01|           NULL|                     NULL|[{ClinicalTrials,...|\n",
            "|ENSG00000007314|  EFO_0009430|     CHEMBL79|           LIDOCAINE|Sodium channel al...|             BLOCKER|          4.0|          LoF|      Unknown status|    2017-01-01|           NULL|                     NULL|[{ClinicalTrials,...|\n",
            "|ENSG00000007314|  EFO_0009430|     CHEMBL79|           LIDOCAINE|Sodium channel al...|             BLOCKER|          4.0|          LoF|                NULL|          NULL|           NULL|                     NULL|[{DailyMed, https...|\n",
            "|ENSG00000007314|   HP_0002017|CHEMBL1077896|         ROPIVACAINE|Sodium channel al...|             BLOCKER|          2.0|          LoF|          Recruiting|    2020-09-25|           NULL|                     NULL|[{ClinicalTrials,...|\n",
            "|ENSG00000010810|MONDO_0001606|   CHEMBL1421|           DASATINIB|       SRC inhibitor|           INHIBITOR|          3.0|          LoF|Active, not recru...|    2012-02-29|           NULL|                     NULL|[{ClinicalTrials,...|\n",
            "|ENSG00000011677|  EFO_0003768| CHEMBL220492|          TOPIRAMATE|GABA-A receptor; ...|  POSITIVE MODULATOR|          2.0|          GoF|           Completed|    2009-01-01|           NULL|                     NULL|[{ClinicalTrials,...|\n",
            "|ENSG00000011677|  EFO_0003768|    CHEMBL568|            OXAZEPAM|GABA-A receptor; ...|POSITIVE ALLOSTER...|          1.0|          GoF|           Completed|    2015-03-01|           NULL|                     NULL|[{ClinicalTrials,...|\n",
            "|ENSG00000011677|  EFO_0003768|    CHEMBL655|           MIDAZOLAM|GABA-A receptor; ...|POSITIVE ALLOSTER...|          0.5|          GoF|          Recruiting|    2023-01-31|           NULL|                     NULL|[{ClinicalTrials,...|\n",
            "|ENSG00000011677|  EFO_0003768| CHEMBL220492|          TOPIRAMATE|GABA-A receptor; ...|  POSITIVE MODULATOR|          2.0|          GoF|           Completed|    2004-12-01|           NULL|                     NULL|[{ClinicalTrials,...|\n",
            "|ENSG00000011677|  EFO_0003768| CHEMBL220492|          TOPIRAMATE|GABA-A receptor; ...|  POSITIVE MODULATOR|          3.0|          GoF|           Completed|    2006-04-01|           NULL|                     NULL|[{ClinicalTrials,...|\n",
            "|ENSG00000011677|  EFO_0003768|    CHEMBL655|           MIDAZOLAM|GABA-A receptor; ...|POSITIVE ALLOSTER...|          1.0|          GoF|           Completed|    2019-06-01|           NULL|                     NULL|[{ClinicalTrials,...|\n",
            "|ENSG00000011677|  EFO_0003768| CHEMBL220492|          TOPIRAMATE|GABA-A receptor; ...|  POSITIVE MODULATOR|          2.0|          GoF|      Unknown status|    2011-09-01|           NULL|                     NULL|[{ClinicalTrials,...|\n",
            "|ENSG00000012124|MONDO_0044881|CHEMBL2108611|INOTUZUMAB OZOGAM...|  CD22 binding agent|       BINDING AGENT|          1.0|         NULL|           Completed|    2012-10-29|           NULL|                     NULL|[{ClinicalTrials,...|\n",
            "|ENSG00000012504|   HP_0000989| CHEMBL566315|    OBETICHOLIC ACID|Bile acid recepto...|             AGONIST|          1.0|          GoF|           Completed|    2021-11-23|           NULL|                     NULL|[{ClinicalTrials,...|\n",
            "|ENSG00000012779|  EFO_0002609|CHEMBL1562610|MECLOFENAMATE SODIUM|Arachidonate 5-li...|           INHIBITOR|          4.0|          LoF|                NULL|          NULL|           NULL|                     NULL|[{DailyMed, https...|\n",
            "+---------------+-------------+-------------+--------------------+--------------------+--------------------+-------------+-------------+--------------------+--------------+---------------+-------------------------+--------------------+\n",
            "only showing top 20 rows\n",
            "\n"
          ]
        }
      ],
      "source": [
        "out = (\n",
        "    chembl.join(moas, on=[\"drugId\", \"targetId\"], how=\"left\")\n",
        "    .join(molecule.withColumnRenamed(\"id\", \"drugId\"), on=\"drugId\", how=\"left\")\n",
        "    .select(\n",
        "        \"targetId\",\n",
        "        \"diseaseId\",\n",
        "        \"drugId\",\n",
        "        \"name\",\n",
        "        \"mechanismOfAction\",\n",
        "        \"actionType\",\n",
        "        \"clinicalPhase\",\n",
        "        \"variantEffect\",\n",
        "        \"clinicalStatus\",\n",
        "        \"studyStartDate\",\n",
        "        \"studyStopReason\",\n",
        "        \"studyStopReasonCategories\",\n",
        "        \"urls\",\n",
        "    )\n",
        ")\n",
        "out.show()"
      ]
    },
    {
      "cell_type": "markdown",
      "metadata": {},
      "source": [
        "# Write output"
      ]
    },
    {
      "cell_type": "code",
      "execution_count": 77,
      "metadata": {},
      "outputs": [
        {
          "name": "stderr",
          "output_type": "stream",
          "text": [
            "                                                                                \r"
          ]
        }
      ],
      "source": [
        "# Write output in CSV format\n",
        "# This dataframe can be written to different formats including parquet file:\n",
        "# out.write.parquet(\"../tmp/autoimmune_credible_set_parquet\", mode=\"overwrite\")\n",
        "# or csv:\n",
        "out.drop(\"urls\", \"studyStopReasonCategories\").coalesce(1).write.csv(\n",
        "    \"../tmp/chembl_evidence_download_csv\",\n",
        "    mode=\"overwrite\",\n",
        "    header=True,\n",
        ")"
      ]
    }
  ],
  "metadata": {
    "kernelspec": {
      "display_name": ".venv",
      "language": "python",
      "name": "python3"
    },
    "language_info": {
      "codemirror_mode": {
        "name": "ipython",
        "version": 3
      },
      "file_extension": ".py",
      "mimetype": "text/x-python",
      "name": "python",
      "nbconvert_exporter": "python",
      "pygments_lexer": "ipython3",
      "version": "3.12.11"
    }
  },
  "nbformat": 4,
  "nbformat_minor": 2
}
