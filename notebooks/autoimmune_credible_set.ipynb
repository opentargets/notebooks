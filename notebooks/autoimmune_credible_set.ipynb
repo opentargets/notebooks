{
 "cells": [
  {
   "cell_type": "markdown",
   "id": "38424346",
   "metadata": {},
   "source": [
    "# Autoimmune colocalisations"
   ]
  },
  {
   "cell_type": "markdown",
   "id": "e12686b2",
   "metadata": {},
   "source": [
    "The purpose of this notebook is to extract colocalisations for GWAS credible set associated with autoimmune diseases, including additional metadata about the studies."
   ]
  },
  {
   "cell_type": "markdown",
   "id": "e92cd97a",
   "metadata": {},
   "source": [
    "1. **Download datasets from Open Targets Platform**"
   ]
  },
  {
   "cell_type": "code",
   "execution_count": null,
   "id": "743efd52",
   "metadata": {
    "vscode": {
     "languageId": "shellscript"
    }
   },
   "outputs": [
    {
     "name": "stdout",
     "output_type": "stream",
     "text": [
      "receiving incremental file list\n",
      "study/\n",
      "study/_SUCCESS\n",
      "study/part-00000-07bf8025-0ff8-4254-b65e-c2e2662cf4b1-c000.snappy.parquet\n",
      "\n",
      "sent 70 bytes  received 75,150,372 bytes  2,385,728.32 bytes/sec\n",
      "total size is 93,324,727  speedup is 1.24\n",
      "receiving incremental file list\n",
      "credible_set/\n",
      "credible_set/_SUCCESS\n",
      "credible_set/part-00000-33904b03-658b-460b-b4ca-e2facc0a1c98-c000.snappy.parquet\n",
      "credible_set/part-00001-33904b03-658b-460b-b4ca-e2facc0a1c98-c000.snappy.parquet\n",
      "credible_set/part-00002-33904b03-658b-460b-b4ca-e2facc0a1c98-c000.snappy.parquet\n",
      "credible_set/part-00003-33904b03-658b-460b-b4ca-e2facc0a1c98-c000.snappy.parquet\n",
      "credible_set/part-00004-33904b03-658b-460b-b4ca-e2facc0a1c98-c000.snappy.parquet\n",
      "credible_set/part-00005-33904b03-658b-460b-b4ca-e2facc0a1c98-c000.snappy.parquet\n"
     ]
    },
    {
     "name": "stderr",
     "output_type": "stream",
     "text": [
      "rsync: [receiver] stat \"/tmp/credible_set/.part-00005-33904b03-658b-460b-b4ca-e2facc0a1c98-c000.snappy.parquet.QIGrun\" failed: No such file or directory (2)\n",
      "rsync: [receiver] rename \"/tmp/credible_set/.part-00005-33904b03-658b-460b-b4ca-e2facc0a1c98-c000.snappy.parquet.QIGrun\" -> \"credible_set/part-00005-33904b03-658b-460b-b4ca-e2facc0a1c98-c000.snappy.parquet\": No such file or directory (2)\n"
     ]
    },
    {
     "name": "stdout",
     "output_type": "stream",
     "text": [
      "credible_set/part-00006-33904b03-658b-460b-b4ca-e2facc0a1c98-c000.snappy.parquet\n",
      "credible_set/part-00007-33904b03-658b-460b-b4ca-e2facc0a1c98-c000.snappy.parquet\n",
      "credible_set/part-00008-33904b03-658b-460b-b4ca-e2facc0a1c98-c000.snappy.parquet\n",
      "credible_set/part-00009-33904b03-658b-460b-b4ca-e2facc0a1c98-c000.snappy.parquet\n",
      "credible_set/part-00010-33904b03-658b-460b-b4ca-e2facc0a1c98-c000.snappy.parquet\n",
      "credible_set/part-00011-33904b03-658b-460b-b4ca-e2facc0a1c98-c000.snappy.parquet\n",
      "credible_set/part-00012-33904b03-658b-460b-b4ca-e2facc0a1c98-c000.snappy.parquet\n",
      "credible_set/part-00013-33904b03-658b-460b-b4ca-e2facc0a1c98-c000.snappy.parquet\n",
      "credible_set/part-00014-33904b03-658b-460b-b4ca-e2facc0a1c98-c000.snappy.parquet\n",
      "credible_set/part-00015-33904b03-658b-460b-b4ca-e2facc0a1c98-c000.snappy.parquet\n",
      "credible_set/part-00016-33904b03-658b-460b-b4ca-e2facc0a1c98-c000.snappy.parquet\n",
      "credible_set/part-00017-33904b03-658b-460b-b4ca-e2facc0a1c98-c000.snappy.parquet\n",
      "credible_set/part-00018-33904b03-658b-460b-b4ca-e2facc0a1c98-c000.snappy.parquet\n",
      "credible_set/part-00019-33904b03-658b-460b-b4ca-e2facc0a1c98-c000.snappy.parquet\n",
      "credible_set/part-00020-33904b03-658b-460b-b4ca-e2facc0a1c98-c000.snappy.parquet\n",
      "credible_set/part-00021-33904b03-658b-460b-b4ca-e2facc0a1c98-c000.snappy.parquet\n",
      "credible_set/part-00022-33904b03-658b-460b-b4ca-e2facc0a1c98-c000.snappy.parquet\n",
      "credible_set/part-00023-33904b03-658b-460b-b4ca-e2facc0a1c98-c000.snappy.parquet\n",
      "credible_set/part-00024-33904b03-658b-460b-b4ca-e2facc0a1c98-c000.snappy.parquet\n",
      "\n",
      "sent 546 bytes  received 1,974,673,588 bytes  1,229,943.40 bytes/sec\n",
      "total size is 2,578,157,705  speedup is 1.31\n"
     ]
    },
    {
     "name": "stderr",
     "output_type": "stream",
     "text": [
      "rsync error: some files/attrs were not transferred (see previous errors) (code 23) at main.c(1865) [generator=3.2.7]\n"
     ]
    },
    {
     "name": "stdout",
     "output_type": "stream",
     "text": [
      "receiving incremental file list\n"
     ]
    },
    {
     "name": "stderr",
     "output_type": "stream",
     "text": [
      "rsync: [sender] link_stat \"/databases/opentargets/platform/25.06/output/colocalisation\" (in pub) failed: No such file or directory (2)\n"
     ]
    },
    {
     "name": "stdout",
     "output_type": "stream",
     "text": [
      "\n",
      "sent 8 bytes  received 155 bytes  108.67 bytes/sec\n",
      "total size is 0  speedup is 0.00\n"
     ]
    },
    {
     "name": "stderr",
     "output_type": "stream",
     "text": [
      "rsync error: some files/attrs were not transferred (see previous errors) (code 23) at main.c(1865) [Receiver=3.2.7]\n"
     ]
    },
    {
     "name": "stdout",
     "output_type": "stream",
     "text": [
      "receiving incremental file list\n",
      "target/\n",
      "target/_SUCCESS\n",
      "target/part-00000-32c6b8fb-df3a-488a-8fe2-2f214b81f4d9-c000.snappy.parquet\n",
      "target/part-00001-32c6b8fb-df3a-488a-8fe2-2f214b81f4d9-c000.snappy.parquet\n",
      "target/part-00002-32c6b8fb-df3a-488a-8fe2-2f214b81f4d9-c000.snappy.parquet\n",
      "target/part-00003-32c6b8fb-df3a-488a-8fe2-2f214b81f4d9-c000.snappy.parquet\n",
      "target/part-00004-32c6b8fb-df3a-488a-8fe2-2f214b81f4d9-c000.snappy.parquet\n",
      "target/part-00005-32c6b8fb-df3a-488a-8fe2-2f214b81f4d9-c000.snappy.parquet\n",
      "target/part-00006-32c6b8fb-df3a-488a-8fe2-2f214b81f4d9-c000.snappy.parquet\n",
      "target/part-00007-32c6b8fb-df3a-488a-8fe2-2f214b81f4d9-c000.snappy.parquet\n",
      "target/part-00008-32c6b8fb-df3a-488a-8fe2-2f214b81f4d9-c000.snappy.parquet\n",
      "target/part-00009-32c6b8fb-df3a-488a-8fe2-2f214b81f4d9-c000.snappy.parquet\n",
      "\n",
      "sent 241 bytes  received 59,240,400 bytes  1,221,456.52 bytes/sec\n",
      "total size is 75,451,617  speedup is 1.27\n",
      "receiving incremental file list\n",
      "disease/\n",
      "disease/disease.parquet\n",
      "\n",
      "sent 51 bytes  received 5,175,557 bytes  796,247.38 bytes/sec\n",
      "total size is 5,348,125  speedup is 1.03\n"
     ]
    }
   ],
   "source": [
    "%%bash\n",
    "release=\"25.06\"\n",
    "datasets=(\"study\" \"credible_set\" \"colocalisation\" \"target\" \"disease\")\n",
    "for dataset in \"${datasets[@]}\"\n",
    "    do mkdir -p ../tmp/\"${dataset}\"\n",
    "    # Rsync the data from EBI FTP server\n",
    "    rsync -rpltvz --delete rsync.ebi.ac.uk::pub/databases/opentargets/platform/${release}/output/${dataset} ../tmp/\n",
    "done\n",
    ";\n"
   ]
  },
  {
   "cell_type": "markdown",
   "id": "a7366eb2",
   "metadata": {},
   "source": [
    "2. **Python environment and Spark session**"
   ]
  },
  {
   "cell_type": "code",
   "execution_count": 4,
   "id": "e9db13d5",
   "metadata": {},
   "outputs": [
    {
     "name": "stderr",
     "output_type": "stream",
     "text": [
      "Setting default log level to \"WARN\".\n",
      "To adjust logging level use sc.setLogLevel(newLevel). For SparkR, use setLogLevel(newLevel).\n",
      "25/07/01 15:38:35 WARN NativeCodeLoader: Unable to load native-hadoop library for your platform... using builtin-java classes where applicable\n"
     ]
    }
   ],
   "source": [
    "from pathlib import Path\n",
    "import pyspark.sql.functions as f\n",
    "from pyspark.sql import SparkSession\n",
    "\n",
    "# Starting a Spark session\n",
    "spark = SparkSession.builder.config(\"spark.driver.memory\", \"8g\").getOrCreate()\n"
   ]
  },
  {
   "cell_type": "markdown",
   "id": "e8e850b8",
   "metadata": {},
   "source": [
    "3. **Read downloaded datasets**"
   ]
  },
  {
   "cell_type": "code",
   "execution_count": 5,
   "id": "376095dc",
   "metadata": {},
   "outputs": [],
   "source": [
    "# Reading datasets\n",
    "credible_set = spark.read.parquet(\n",
    "    str(Path.cwd().joinpath(\"../tmp/credible_set\").resolve())\n",
    ")\n",
    "l2g_prediction = spark.read.parquet(\n",
    "    str(Path.cwd().joinpath(\"../tmp/l2g_prediction\").resolve())\n",
    ")\n",
    "study = spark.read.parquet(str(Path.cwd().joinpath(\"../tmp/study\").resolve()))\n",
    "target = spark.read.parquet(str(Path.cwd().joinpath(\"../tmp/target\").resolve()))\n",
    "disease = spark.read.parquet(str(Path.cwd().joinpath(\"../tmp/disease\").resolve()))\n"
   ]
  },
  {
   "cell_type": "markdown",
   "id": "f594ea90",
   "metadata": {},
   "source": [
    "4. **Finding all autoimmune diseases according to EFO**"
   ]
  },
  {
   "cell_type": "code",
   "execution_count": 6,
   "id": "80de269b",
   "metadata": {},
   "outputs": [
    {
     "name": "stdout",
     "output_type": "stream",
     "text": [
      "+-------------+--------------------------------------------------------------------------------+\n",
      "|diseaseId    |name                                                                            |\n",
      "+-------------+--------------------------------------------------------------------------------+\n",
      "|MONDO_0012500|chilblain lupus 1                                                               |\n",
      "|MONDO_0010894|maturity-onset diabetes of the young type 3                                     |\n",
      "|MONDO_0024278|proctocolitis                                                                   |\n",
      "|EFO_0005626  |pancolitis                                                                      |\n",
      "|EFO_0008613  |pemphigus vegetans                                                              |\n",
      "|EFO_0803379  |anti-GAD65 autoimmune neurological syndromes                                    |\n",
      "|MONDO_0005301|multiple sclerosis                                                              |\n",
      "|EFO_0008605  |IgG/IgA pemphigus                                                               |\n",
      "|EFO_0009746  |extended oligoarticular juvenile idiopathic arthritis                           |\n",
      "|MONDO_0018827|familial chilblain lupus                                                        |\n",
      "|EFO_0004826  |anti-neutrophil antibody associated vasculitis                                  |\n",
      "|MONDO_0000708|Crohn jejunoileitis                                                             |\n",
      "|EFO_0003767  |inflammatory bowel disease                                                      |\n",
      "|MONDO_0022901|Crohn disease of the esophagus                                                  |\n",
      "|MONDO_0012192|permanent neonatal diabetes mellitus-pancreatic and cerebellar agenesis syndrome|\n",
      "|EFO_0004537  |neonatal systemic lupus erythematosus                                           |\n",
      "|EFO_0007292  |Guillain-Barre syndrome                                                         |\n",
      "|EFO_0007187  |bullous pemphigoid                                                              |\n",
      "|EFO_0009538  |chronic inflammatory demyelinating polyneuropathy                               |\n",
      "|EFO_1001820  |oroficial granulomatosis                                                        |\n",
      "+-------------+--------------------------------------------------------------------------------+\n",
      "only showing top 20 rows\n",
      "\n"
     ]
    }
   ],
   "source": [
    "autoimmune_efo = \"EFO_0005140\"\n",
    "autoimmune_diseases = (\n",
    "    disease.filter(f.col(\"id\") == autoimmune_efo)\n",
    "    .select(f.explode(\"descendants\").alias(\"diseaseId\"))\n",
    "    .join(\n",
    "        disease.select(f.col(\"id\").alias(\"diseaseId\"), \"name\"),\n",
    "        on=\"diseaseId\",\n",
    "        how=\"left\",\n",
    "    )\n",
    ")\n",
    "autoimmune_diseases.show(truncate=False)\n"
   ]
  },
  {
   "cell_type": "markdown",
   "id": "da9475b6",
   "metadata": {},
   "source": [
    "5. **Finding all GWAS studies for autoimmune diseases**\n"
   ]
  },
  {
   "cell_type": "code",
   "execution_count": 7,
   "id": "e6170c7b",
   "metadata": {},
   "outputs": [
    {
     "name": "stderr",
     "output_type": "stream",
     "text": [
      "25/07/01 15:38:47 WARN SparkStringUtils: Truncated the string representation of a plan since it was too large. This behavior can be adjusted by setting 'spark.sql.debug.maxToStringFields'.\n",
      "[Stage 8:====================================================>    (11 + 1) / 12]\r"
     ]
    },
    {
     "name": "stdout",
     "output_type": "stream",
     "text": [
      "-RECORD 0--------------------------------------------------------------------------------------------------------------------------------------------------\n",
      " diseaseId                          | EFO_0002689                                                                                                          \n",
      " studyId                            | GCST004227                                                                                                           \n",
      " geneId                             | NULL                                                                                                                 \n",
      " projectId                          | GCST                                                                                                                 \n",
      " studyType                          | gwas                                                                                                                 \n",
      " traitFromSource                    | Obstetric antiphospholipid syndrome                                                                                  \n",
      " traitFromSourceMappedIds           | [EFO_0002689]                                                                                                        \n",
      " biosampleFromSourceId              | NULL                                                                                                                 \n",
      " pubmedId                           | 28424481                                                                                                             \n",
      " publicationTitle                   | The first genome-wide association study identifying new susceptibility loci for obstetric antiphospholipid syndrome. \n",
      " publicationFirstAuthor             | Sugiura-Ogasawara M                                                                                                  \n",
      " publicationDate                    | 2017-04-20                                                                                                           \n",
      " publicationJournal                 | J Hum Genet                                                                                                          \n",
      " backgroundTraitFromSourceMappedIds | NULL                                                                                                                 \n",
      " initialSampleSize                  | 115 Japanese ancestry female cases, 419 Japanese ancestry male and female controls                                   \n",
      " nCases                             | 115                                                                                                                  \n",
      " nControls                          | 419                                                                                                                  \n",
      " nSamples                           | 534                                                                                                                  \n",
      " cohorts                            | NULL                                                                                                                 \n",
      " ldPopulationStructure              | [{eas, 1.0}]                                                                                                         \n",
      " discoverySamples                   | [{534, East Asian}]                                                                                                  \n",
      " replicationSamples                 | []                                                                                                                   \n",
      " qualityControls                    | [Harmonized summary statistics are not available or empty]                                                           \n",
      " analysisFlags                      | []                                                                                                                   \n",
      " summarystatsLocation               | NULL                                                                                                                 \n",
      " hasSumstats                        | false                                                                                                                \n",
      " condition                          | NULL                                                                                                                 \n",
      " sumstatQCValues                    | NULL                                                                                                                 \n",
      " diseaseIds                         | [EFO_0002689]                                                                                                        \n",
      " backgroundDiseaseIds               | []                                                                                                                   \n",
      " biosampleId                        | NULL                                                                                                                 \n",
      " name                               | antiphospholipid syndrome                                                                                            \n",
      "only showing top 1 row\n",
      "\n"
     ]
    },
    {
     "name": "stderr",
     "output_type": "stream",
     "text": [
      "                                                                                \r"
     ]
    }
   ],
   "source": [
    "auto_gwas_studies = study.withColumn(\"diseaseId\", f.explode(\"diseaseIds\")).join(\n",
    "    autoimmune_diseases, on=\"diseaseId\", how=\"inner\"\n",
    ")\n",
    "auto_gwas_studies.show(1, vertical=True, truncate=False)\n"
   ]
  },
  {
   "cell_type": "markdown",
   "id": "f64608cd",
   "metadata": {},
   "source": [
    "6. **Extracting all credible sets in autoimmune studies**\n"
   ]
  },
  {
   "cell_type": "code",
   "execution_count": 8,
   "id": "c831bb0b",
   "metadata": {},
   "outputs": [
    {
     "name": "stderr",
     "output_type": "stream",
     "text": [
      "                                                                                \r"
     ]
    },
    {
     "data": {
      "text/plain": [
       "7621"
      ]
     },
     "execution_count": 8,
     "metadata": {},
     "output_type": "execute_result"
    }
   ],
   "source": [
    "auto_cs = auto_gwas_studies.join(credible_set, on=\"studyId\", how=\"inner\")\n",
    "auto_cs.count()\n"
   ]
  },
  {
   "cell_type": "markdown",
   "id": "039f27cd",
   "metadata": {},
   "source": [
    "7. **Including top L2G gene for each credible set**"
   ]
  },
  {
   "cell_type": "code",
   "execution_count": 9,
   "id": "225cf346",
   "metadata": {},
   "outputs": [
    {
     "name": "stdout",
     "output_type": "stream",
     "text": [
      "root\n",
      " |-- studyLocusId: string (nullable = true)\n",
      " |-- studyId: string (nullable = true)\n",
      " |-- diseaseId: string (nullable = true)\n",
      " |-- geneId: string (nullable = true)\n",
      " |-- projectId: string (nullable = true)\n",
      " |-- studyType: string (nullable = true)\n",
      " |-- traitFromSource: string (nullable = true)\n",
      " |-- traitFromSourceMappedIds: array (nullable = true)\n",
      " |    |-- element: string (containsNull = true)\n",
      " |-- biosampleFromSourceId: string (nullable = true)\n",
      " |-- pubmedId: string (nullable = true)\n",
      " |-- publicationTitle: string (nullable = true)\n",
      " |-- publicationFirstAuthor: string (nullable = true)\n",
      " |-- publicationDate: string (nullable = true)\n",
      " |-- publicationJournal: string (nullable = true)\n",
      " |-- backgroundTraitFromSourceMappedIds: array (nullable = true)\n",
      " |    |-- element: string (containsNull = true)\n",
      " |-- initialSampleSize: string (nullable = true)\n",
      " |-- nCases: integer (nullable = true)\n",
      " |-- nControls: integer (nullable = true)\n",
      " |-- nSamples: integer (nullable = true)\n",
      " |-- cohorts: array (nullable = true)\n",
      " |    |-- element: string (containsNull = true)\n",
      " |-- ldPopulationStructure: array (nullable = true)\n",
      " |    |-- element: struct (containsNull = true)\n",
      " |    |    |-- ldPopulation: string (nullable = true)\n",
      " |    |    |-- relativeSampleSize: double (nullable = true)\n",
      " |-- discoverySamples: array (nullable = true)\n",
      " |    |-- element: struct (containsNull = true)\n",
      " |    |    |-- sampleSize: integer (nullable = true)\n",
      " |    |    |-- ancestry: string (nullable = true)\n",
      " |-- replicationSamples: array (nullable = true)\n",
      " |    |-- element: struct (containsNull = true)\n",
      " |    |    |-- sampleSize: integer (nullable = true)\n",
      " |    |    |-- ancestry: string (nullable = true)\n",
      " |-- qualityControls: array (nullable = true)\n",
      " |    |-- element: string (containsNull = true)\n",
      " |-- analysisFlags: array (nullable = true)\n",
      " |    |-- element: string (containsNull = true)\n",
      " |-- summarystatsLocation: string (nullable = true)\n",
      " |-- hasSumstats: boolean (nullable = true)\n",
      " |-- condition: string (nullable = true)\n",
      " |-- sumstatQCValues: array (nullable = true)\n",
      " |    |-- element: struct (containsNull = true)\n",
      " |    |    |-- QCCheckName: string (nullable = true)\n",
      " |    |    |-- QCCheckValue: float (nullable = true)\n",
      " |-- diseaseIds: array (nullable = true)\n",
      " |    |-- element: string (containsNull = true)\n",
      " |-- backgroundDiseaseIds: array (nullable = true)\n",
      " |    |-- element: string (containsNull = true)\n",
      " |-- biosampleId: string (nullable = true)\n",
      " |-- name: string (nullable = true)\n",
      " |-- variantId: string (nullable = true)\n",
      " |-- chromosome: string (nullable = true)\n",
      " |-- position: integer (nullable = true)\n",
      " |-- region: string (nullable = true)\n",
      " |-- beta: double (nullable = true)\n",
      " |-- zScore: double (nullable = true)\n",
      " |-- pValueMantissa: float (nullable = true)\n",
      " |-- pValueExponent: integer (nullable = true)\n",
      " |-- effectAlleleFrequencyFromSource: float (nullable = true)\n",
      " |-- standardError: double (nullable = true)\n",
      " |-- subStudyDescription: string (nullable = true)\n",
      " |-- qualityControls: array (nullable = true)\n",
      " |    |-- element: string (containsNull = true)\n",
      " |-- finemappingMethod: string (nullable = true)\n",
      " |-- credibleSetIndex: integer (nullable = true)\n",
      " |-- credibleSetlog10BF: double (nullable = true)\n",
      " |-- purityMeanR2: double (nullable = true)\n",
      " |-- purityMinR2: double (nullable = true)\n",
      " |-- locusStart: integer (nullable = true)\n",
      " |-- locusEnd: integer (nullable = true)\n",
      " |-- sampleSize: integer (nullable = true)\n",
      " |-- ldSet: array (nullable = true)\n",
      " |    |-- element: struct (containsNull = true)\n",
      " |    |    |-- tagVariantId: string (nullable = true)\n",
      " |    |    |-- r2Overall: double (nullable = true)\n",
      " |-- locus: array (nullable = true)\n",
      " |    |-- element: struct (containsNull = true)\n",
      " |    |    |-- is95CredibleSet: boolean (nullable = true)\n",
      " |    |    |-- is99CredibleSet: boolean (nullable = true)\n",
      " |    |    |-- logBF: double (nullable = true)\n",
      " |    |    |-- posteriorProbability: double (nullable = true)\n",
      " |    |    |-- variantId: string (nullable = true)\n",
      " |    |    |-- pValueMantissa: float (nullable = true)\n",
      " |    |    |-- pValueExponent: integer (nullable = true)\n",
      " |    |    |-- beta: double (nullable = true)\n",
      " |    |    |-- standardError: double (nullable = true)\n",
      " |    |    |-- r2Overall: double (nullable = true)\n",
      " |-- confidence: string (nullable = true)\n",
      " |-- studyType: string (nullable = true)\n",
      " |-- isTransQtl: boolean (nullable = true)\n",
      " |-- topGeneId: string (nullable = true)\n",
      " |-- top_L2G_score: double (nullable = true)\n",
      " |-- topGeneSymbol: string (nullable = true)\n",
      "\n"
     ]
    }
   ],
   "source": [
    "auto_cs_gene = auto_cs.join(\n",
    "    # Top scoring L2G gene for each studyLocusId\n",
    "    l2g_prediction.groupBy(\"studyLocusId\")\n",
    "    # Stricter L2G score filters can be applied here\n",
    "    # .filter(f.col(\"score\") > 0.25)\n",
    "    .agg(\n",
    "        f.first(\"geneId\").alias(\"topGeneId\"),\n",
    "        f.first(\"score\").alias(\"top_L2G_score\"),\n",
    "    )\n",
    "    .join(\n",
    "        target.select(\n",
    "            f.col(\"id\").alias(\"topGeneId\"),\n",
    "            f.col(\"approvedSymbol\").alias(\"topGeneSymbol\"),\n",
    "        ),\n",
    "        on=\"topGeneId\",\n",
    "        how=\"left\",\n",
    "    ),\n",
    "    on=\"studyLocusId\",\n",
    "    how=\"left\",\n",
    ")\n",
    "auto_cs_gene.printSchema()\n"
   ]
  },
  {
   "cell_type": "markdown",
   "id": "2f77b3c1",
   "metadata": {},
   "source": [
    "8. **Select columns of interest to print/write**"
   ]
  },
  {
   "cell_type": "code",
   "execution_count": 10,
   "id": "eff3a448",
   "metadata": {},
   "outputs": [
    {
     "name": "stderr",
     "output_type": "stream",
     "text": [
      "                                                                                \r"
     ]
    },
    {
     "name": "stdout",
     "output_type": "stream",
     "text": [
      "+-------------------------------+-----------------------------+---------------+--------+-----------------------------------------------------------------------------------+---------------------------------------------------------------------------------------------------------------------------------------------------+-------------+----------------------------------+--------------------------------+--------------+--------------+---------------------+-------------+-----------------+-----------+---------------+-------------+---------------+-------------------+\n",
      "|studyId                        |publicationJournal           |publicationDate|nSamples|ldPopulationStructure                                                              |traitFromSource                                                                                                                                    |diseaseId    |diseaseName                       |studyLocusId                    |pValueMantissa|pValueExponent|beta                 |standardError|fineMappingMethod|hasSumstats|leadVariant    |topGeneSymbol|topGeneId      |top_L2G_score      |\n",
      "+-------------------------------+-----------------------------+---------------+--------+-----------------------------------------------------------------------------------+---------------------------------------------------------------------------------------------------------------------------------------------------+-------------+----------------------------------+--------------------------------+--------------+--------------+---------------------+-------------+-----------------+-----------+---------------+-------------+---------------+-------------------+\n",
      "|GCST90132225                   |Nat Genet                    |2022-11-04     |267597  |[{eas, 0.6487516676195921}, {nfe, 0.3439649921336936}, {afr, 0.007283340246714276}]|Rheumatoid arthritis (rheumatoid factor and/or anti-cyclic citrullinated peptide seropositive)                                                     |EFO_0000685  |rheumatoid arthritis              |05d99d0262a6fb8759ae94a070f86b39|9.233765      |-11           |-0.011893110543951424|NULL         |SuSiE-inf        |true       |10_48817351_G_A|LRRC18       |ENSG00000165383|0.15687921950430134|\n",
      "|GCST90132225                   |Nat Genet                    |2022-11-04     |267597  |[{eas, 0.6487516676195921}, {nfe, 0.3439649921336936}, {afr, 0.007283340246714276}]|Rheumatoid arthritis (rheumatoid factor and/or anti-cyclic citrullinated peptide seropositive)                                                     |EFO_0000685  |rheumatoid arthritis              |07e93ab3fcc87cb515488783c8bae226|1.7045393     |-11           |-0.01723716034603877 |NULL         |SuSiE-inf        |true       |21_42434957_A_C|UBASH3A      |ENSG00000160185|0.6542856516850797 |\n",
      "|GCST90132225                   |Nat Genet                    |2022-11-04     |267597  |[{eas, 0.6487516676195921}, {nfe, 0.3439649921336936}, {afr, 0.007283340246714276}]|Rheumatoid arthritis (rheumatoid factor and/or anti-cyclic citrullinated peptide seropositive)                                                     |EFO_0000685  |rheumatoid arthritis              |109cc2668c570c7d3b315d5dd7090bdb|4.507402      |-16           |-0.016578111514498933|NULL         |SuSiE-inf        |true       |9_34710263_G_A |CCL21        |ENSG00000137077|0.32571339248479675|\n",
      "|GCST001725                     |Nature                       |2012-11-01     |34366   |[{nfe, 1.0}]                                                                       |Inflammatory bowel disease                                                                                                                         |EFO_0003767  |inflammatory bowel disease        |1ab96f2695a1423ee5fb41ece6d2023f|8.0           |-45           |-0.1604167214059047  |NULL         |PICS             |false      |9_4981602_C_A  |JAK2         |ENSG00000096968|0.9107508173492406 |\n",
      "|FINNGEN_R12_RHEUMA_SEROPOS_WIDE|NULL                         |NULL           |500343  |[{fin, 1.0}]                                                                       |Seropositive rheumatoid arthritis, wide                                                                                                            |EFO_0009459  |ACPA-positive rheumatoid arthritis|20deff76fc19256ede4e4b799edf596a|1.508         |-12           |-0.0113922291402178  |0.0214371    |SuSie            |true       |8_128528218_C_A|NULL         |NULL           |NULL               |\n",
      "|GCST000507                     |Nat Genet                    |2009-10-18     |2252    |[{eas, 1.0}]                                                                       |Systemic lupus erythematosus                                                                                                                       |MONDO_0007915|systemic lupus erythematosus      |2c98324cf32e02cb1d5a20805bf27dbe|7.0           |-12           |-0.21511137961694543 |NULL         |PICS             |false      |10_48911009_A_G|LRRC18       |ENSG00000165383|0.7771308333513806 |\n",
      "|GCST005537                     |Nat Genet                    |2016-03-14     |86475   |[{nfe, 1.0}]                                                                       |Chronic inflammatory diseases (ankylosing spondylitis, Crohn's disease, psoriasis, primary sclerosing cholangitis, ulcerative colitis) (pleiotropy)|EFO_0000729  |ulcerative colitis                |471fd17c96807de6aa8aa377471692a3|2.0           |-10           |NULL                 |NULL         |PICS             |false      |8_89837077_C_A |OSGIN2       |ENSG00000164823|0.11913684477402028|\n",
      "|GCST005537                     |Nat Genet                    |2016-03-14     |86475   |[{nfe, 1.0}]                                                                       |Chronic inflammatory diseases (ankylosing spondylitis, Crohn's disease, psoriasis, primary sclerosing cholangitis, ulcerative colitis) (pleiotropy)|EFO_0000384  |Crohn's disease                   |471fd17c96807de6aa8aa377471692a3|2.0           |-10           |NULL                 |NULL         |PICS             |false      |8_89837077_C_A |OSGIN2       |ENSG00000164823|0.11913684477402028|\n",
      "|GCST005537                     |Nat Genet                    |2016-03-14     |86475   |[{nfe, 1.0}]                                                                       |Chronic inflammatory diseases (ankylosing spondylitis, Crohn's disease, psoriasis, primary sclerosing cholangitis, ulcerative colitis) (pleiotropy)|EFO_0003898  |ankylosing spondylitis            |471fd17c96807de6aa8aa377471692a3|2.0           |-10           |NULL                 |NULL         |PICS             |false      |8_89837077_C_A |OSGIN2       |ENSG00000164823|0.11913684477402028|\n",
      "|GCST90132225                   |Nat Genet                    |2022-11-04     |267597  |[{eas, 0.6487516676195921}, {nfe, 0.3439649921336936}, {afr, 0.007283340246714276}]|Rheumatoid arthritis (rheumatoid factor and/or anti-cyclic citrullinated peptide seropositive)                                                     |EFO_0000685  |rheumatoid arthritis              |5fdb36001a4e2bb4762445d474dbef73|1.9036623     |-8            |0.042948415763789875 |NULL         |SuSiE-inf        |true       |19_19516501_T_G|TSSK6        |ENSG00000178093|0.08188348105128569|\n",
      "|GCST90132225                   |Nat Genet                    |2022-11-04     |267597  |[{eas, 0.6487516676195921}, {nfe, 0.3439649921336936}, {afr, 0.007283340246714276}]|Rheumatoid arthritis (rheumatoid factor and/or anti-cyclic citrullinated peptide seropositive)                                                     |EFO_0000685  |rheumatoid arthritis              |6bf5f54fcdc66f89777624ba3d4731d0|6.8954372     |-7            |0.012825730769777773 |NULL         |SuSiE-inf        |true       |1_67278918_G_A |IL12RB2      |ENSG00000081985|0.1507866046595642 |\n",
      "|GCST90132225                   |Nat Genet                    |2022-11-04     |267597  |[{eas, 0.6487516676195921}, {nfe, 0.3439649921336936}, {afr, 0.007283340246714276}]|Rheumatoid arthritis (rheumatoid factor and/or anti-cyclic citrullinated peptide seropositive)                                                     |EFO_0000685  |rheumatoid arthritis              |70b4ad83d01494cdd7edf16b5c665431|2.540484      |-10           |0.011691712911910311 |NULL         |SuSiE-inf        |true       |22_21561877_T_C|YDJC         |ENSG00000161179|0.05647495047463959|\n",
      "|GCST90014449                   |Biol Psychiatry Glob Open Sci|2021-06-01     |325228  |[{nfe, 1.0}]                                                                       |Multiple sclerosis                                                                                                                                 |MONDO_0005301|multiple sclerosis                |7cb2c5dd38d3c439cff4cdfcc8750df5|4.797         |-51           |0.13639              |0.0090737    |PICS             |true       |7_54804977_G_A |SEC61G       |ENSG00000132432|0.8223040931614408 |\n",
      "|FINNGEN_R12_G6_MS              |NULL                         |NULL           |498857  |[{fin, 1.0}]                                                                       |MS-disease / Multiple Sclerosis                                                                                                                    |MONDO_0005301|multiple sclerosis                |7e1bd36e7e2a3421b6bf1e20fcece2ed|1.779         |-9            |0.01466078165268     |0.0269626    |SuSie            |true       |19_16414580_C_T|EPS15L1      |ENSG00000127527|0.6080374841973364 |\n",
      "|GCST90014438                   |Biol Psychiatry Glob Open Sci|2021-06-01     |325418  |[{nfe, 1.0}]                                                                       |Ankylosing spondylitis                                                                                                                             |EFO_0003898  |ankylosing spondylitis            |8107ea85f9acc28b427770e4f5f648cc|4.656         |-23           |0.16925              |0.017114     |PICS             |true       |3_75690425_T_G |FRG2C        |ENSG00000172969|0.7507252676279834 |\n",
      "|FINNGEN_R12_MUCOPROCT          |NULL                         |NULL           |482115  |[{fin, 1.0}]                                                                       |Mucosal proctocolitis                                                                                                                              |EFO_1001223  |ulcerative proctosigmoiditis      |89a04273c2998b91dc9e998545d59d26|2.74          |-12           |0.132808689905544    |0.0193982    |SuSie            |true       |20_44436388_A_C|TTPAL        |ENSG00000124120|0.07723600997802375|\n",
      "|FINNGEN_R12_RHEUMA_SEROPOS_WIDE|NULL                         |NULL           |500343  |[{fin, 1.0}]                                                                       |Seropositive rheumatoid arthritis, wide                                                                                                            |EFO_0009459  |ACPA-positive rheumatoid arthritis|9a60424aa3d22c884a22559c37844654|1.531         |-8            |-0.177815921222501   |0.034187     |SuSie            |true       |12_54974507_C_T|TESPA1       |ENSG00000135426|0.9714281887512843 |\n",
      "|GCST90014449                   |Biol Psychiatry Glob Open Sci|2021-06-01     |325228  |[{nfe, 1.0}]                                                                       |Multiple sclerosis                                                                                                                                 |MONDO_0005301|multiple sclerosis                |a7f20d25a3f3bfcecb7e78a307b443be|4.285         |-11           |0.010299             |0.0015618    |PICS             |true       |10_69389696_C_T|TACR2        |ENSG00000075073|0.1271850358204016 |\n",
      "|GCST90446793                   |Nat Genet                    |2023-05-08     |22828   |[{eas, 1.0}]                                                                       |Crohn's disease                                                                                                                                    |EFO_0000384  |Crohn's disease                   |bc2220abca0e69d6980822c45e642548|9.126655      |-6            |-0.4832234543506715  |NULL         |SuSiE-inf        |true       |21_15345207_C_T|NRIP1        |ENSG00000180530|0.7570354741645148 |\n",
      "|GCST90446793                   |Nat Genet                    |2023-05-08     |22828   |[{eas, 1.0}]                                                                       |Crohn's disease                                                                                                                                    |EFO_0000384  |Crohn's disease                   |bc2b06a7a1692ca3745a81abe9afba9c|1.1727767     |-6            |-0.4524647001998562  |NULL         |SuSiE-inf        |true       |1_21979601_T_C |CELA3B       |ENSG00000219073|0.8093075585755392 |\n",
      "+-------------------------------+-----------------------------+---------------+--------+-----------------------------------------------------------------------------------+---------------------------------------------------------------------------------------------------------------------------------------------------+-------------+----------------------------------+--------------------------------+--------------+--------------+---------------------+-------------+-----------------+-----------+---------------+-------------+---------------+-------------------+\n",
      "only showing top 20 rows\n",
      "\n"
     ]
    }
   ],
   "source": [
    "cs_out = auto_cs_gene.select(\n",
    "    # About the study\n",
    "    \"studyId\",\n",
    "    \"publicationJournal\",\n",
    "    \"publicationDate\",\n",
    "    \"nSamples\",\n",
    "    \"ldPopulationStructure\",\n",
    "    \"traitFromSource\",\n",
    "    \"diseaseId\",\n",
    "    f.col(\"name\").alias(\"diseaseName\"),\n",
    "    # About the credible set\n",
    "    \"studyLocusId\",\n",
    "    \"pValueMantissa\",\n",
    "    \"pValueExponent\",\n",
    "    \"beta\",\n",
    "    \"standardError\",\n",
    "    \"fineMappingMethod\",\n",
    "    \"hasSumstats\",\n",
    "    f.col(\"variantId\").alias(\"leadVariant\"),\n",
    "    # About the gene\n",
    "    \"topGeneSymbol\",\n",
    "    \"topGeneId\",\n",
    "    \"top_L2G_score\",\n",
    ")\n",
    "\n",
    "cs_out.show(truncate=False)\n",
    "\n",
    "# This dataframe can be written to different formats including parquet file:\n",
    "# cs_out.write.parquet(\n",
    "#     str(Path.cwd().joinpath(\"../tmp/autoimmune_credible_set_parquet\").resolve()),\n",
    "#     mode=\"overwrite\",\n",
    "# )\n",
    "# or csv:\n",
    "# cs_out.drop(\"ldPopulationStructure\").coalesce(1).write.csv(\n",
    "#     str(Path.cwd().joinpath(\"../tmp/autoimmune_credible_set_csv\").resolve()),\n",
    "#     mode=\"overwrite\",\n",
    "#     header=True,\n",
    "# )\n"
   ]
  }
 ],
 "metadata": {
  "kernelspec": {
   "display_name": ".venv",
   "language": "python",
   "name": "python3"
  },
  "language_info": {
   "codemirror_mode": {
    "name": "ipython",
    "version": 3
   },
   "file_extension": ".py",
   "mimetype": "text/x-python",
   "name": "python",
   "nbconvert_exporter": "python",
   "pygments_lexer": "ipython3",
   "version": "3.12.11"
  }
 },
 "nbformat": 4,
 "nbformat_minor": 5
}
