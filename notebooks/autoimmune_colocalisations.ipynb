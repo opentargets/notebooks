{
 "cells": [
  {
   "cell_type": "markdown",
   "id": "38424346",
   "metadata": {},
   "source": [
    "# Autoimmune colocalisations"
   ]
  },
  {
   "cell_type": "markdown",
   "id": "e12686b2",
   "metadata": {},
   "source": [
    "The purpose of this notebook is to extract colocalisations for GWAS credible set associated with autoimmune diseases, including additional metadata about the studies."
   ]
  },
  {
   "cell_type": "markdown",
   "id": "e92cd97a",
   "metadata": {},
   "source": [
    "1. **Download datasets from Open Targets Platform**"
   ]
  },
  {
   "cell_type": "code",
   "execution_count": 14,
   "id": "743efd52",
   "metadata": {},
   "outputs": [],
   "source": [
    "%%bash\n",
    "release=\"25.06\"\n",
    "datasets=(\"study\" \"credible_set\" \"colocalisation_coloc\" \"colocalisation_ecaviar\" \"target\" \"disease\" \"biosample\")\n",
    "for dataset in \"${datasets[@]}\"\n",
    "    do mkdir -p ../tmp/\"${dataset}\"\n",
    "    # Rsync the data from EBI FTP server\n",
    "    rsync -rpltvz --delete rsync.ebi.ac.uk::pub/databases/opentargets/platform/${release}/output/${dataset} ../tmp/\n",
    "done"
   ]
  },
  {
   "cell_type": "markdown",
   "id": "a7366eb2",
   "metadata": {},
   "source": [
    "2. **Python environment and Spark session**"
   ]
  },
  {
   "cell_type": "code",
   "execution_count": 1,
   "id": "e9db13d5",
   "metadata": {},
   "outputs": [
    {
     "name": "stderr",
     "output_type": "stream",
     "text": [
      "25/10/14 17:14:46 WARN Utils: Your hostname, MW4X0GG4FP resolves to a loopback address: 127.0.0.1; using 172.23.49.88 instead (on interface en0)\n",
      "25/10/14 17:14:46 WARN Utils: Set SPARK_LOCAL_IP if you need to bind to another address\n",
      "Setting default log level to \"WARN\".\n",
      "To adjust logging level use sc.setLogLevel(newLevel). For SparkR, use setLogLevel(newLevel).\n",
      "25/10/14 17:14:46 WARN NativeCodeLoader: Unable to load native-hadoop library for your platform... using builtin-java classes where applicable\n"
     ]
    }
   ],
   "source": [
    "from pyspark.sql import SparkSession\n",
    "import pyspark.sql.functions as f\n",
    "\n",
    "# Starting a Spark session\n",
    "spark = SparkSession.builder.config(\"spark.driver.memory\", \"8g\").getOrCreate()"
   ]
  },
  {
   "cell_type": "markdown",
   "id": "e8e850b8",
   "metadata": {},
   "source": [
    "3. **Read downloaded datasets**"
   ]
  },
  {
   "cell_type": "code",
   "execution_count": 2,
   "id": "376095dc",
   "metadata": {},
   "outputs": [],
   "source": [
    "# Reading datasets\n",
    "credible_set = spark.read.parquet(\"../tmp/credible_set\")\n",
    "\n",
    "# Union two colocalisation datasets \"colocalisation_ecaviar\" and \"colocalisation_coloc\"\n",
    "colocalisation_coloc = spark.read.parquet(\"../tmp/colocalisation_coloc\")\n",
    "colocalisation_ecaviar = spark.read.parquet(\"../tmp/colocalisation_ecaviar\")\n",
    "colocalisation = colocalisation_coloc.unionByName(\n",
    "    colocalisation_ecaviar, allowMissingColumns=True\n",
    ")\n",
    "\n",
    "# Read other datasets\n",
    "study = spark.read.parquet(\"../tmp/study\")\n",
    "target = spark.read.parquet(\"../tmp/target\")\n",
    "disease = spark.read.parquet(\"../tmp/disease\")\n",
    "biosample = spark.read.parquet(\"../tmp/biosample\")"
   ]
  },
  {
   "cell_type": "markdown",
   "id": "f594ea90",
   "metadata": {},
   "source": [
    "4. **Finding all autoimmune diseases according to EFO**"
   ]
  },
  {
   "cell_type": "code",
   "execution_count": 3,
   "id": "80de269b",
   "metadata": {},
   "outputs": [
    {
     "name": "stdout",
     "output_type": "stream",
     "text": [
      "+-------------+--------------------------------------------------------------------------------+\n",
      "|diseaseId    |name                                                                            |\n",
      "+-------------+--------------------------------------------------------------------------------+\n",
      "|MONDO_0012500|chilblain lupus 1                                                               |\n",
      "|MONDO_0010894|maturity-onset diabetes of the young type 3                                     |\n",
      "|MONDO_0024278|proctocolitis                                                                   |\n",
      "|EFO_0005626  |pancolitis                                                                      |\n",
      "|EFO_0008613  |pemphigus vegetans                                                              |\n",
      "|EFO_0803379  |anti-GAD65 autoimmune neurological syndromes                                    |\n",
      "|MONDO_0005301|multiple sclerosis                                                              |\n",
      "|EFO_0008605  |IgG/IgA pemphigus                                                               |\n",
      "|EFO_0009746  |extended oligoarticular juvenile idiopathic arthritis                           |\n",
      "|MONDO_0018827|familial chilblain lupus                                                        |\n",
      "|EFO_0004826  |anti-neutrophil antibody associated vasculitis                                  |\n",
      "|MONDO_0000708|Crohn jejunoileitis                                                             |\n",
      "|EFO_0003767  |inflammatory bowel disease                                                      |\n",
      "|MONDO_0022901|Crohn disease of the esophagus                                                  |\n",
      "|MONDO_0012192|permanent neonatal diabetes mellitus-pancreatic and cerebellar agenesis syndrome|\n",
      "|EFO_0004537  |neonatal systemic lupus erythematosus                                           |\n",
      "|EFO_0007292  |Guillain-Barre syndrome                                                         |\n",
      "|EFO_0007187  |bullous pemphigoid                                                              |\n",
      "|EFO_0009538  |chronic inflammatory demyelinating polyneuropathy                               |\n",
      "|EFO_1001820  |oroficial granulomatosis                                                        |\n",
      "+-------------+--------------------------------------------------------------------------------+\n",
      "only showing top 20 rows\n",
      "\n"
     ]
    }
   ],
   "source": [
    "autoimmune_efo = \"EFO_0005140\"\n",
    "autoimmune_diseases = (\n",
    "    disease.filter(f.col(\"id\") == autoimmune_efo)\n",
    "    .select(f.explode(\"descendants\").alias(\"diseaseId\"))\n",
    "    .join(\n",
    "        disease.select(f.col(\"id\").alias(\"diseaseId\"), \"name\"),\n",
    "        on=\"diseaseId\",\n",
    "        how=\"left\",\n",
    "    )\n",
    ")\n",
    "autoimmune_diseases.show(truncate=False)"
   ]
  },
  {
   "cell_type": "markdown",
   "id": "da9475b6",
   "metadata": {},
   "source": [
    "5. **Finding all GWAS studies for autoimmune diseases**\n"
   ]
  },
  {
   "cell_type": "code",
   "execution_count": 4,
   "id": "e6170c7b",
   "metadata": {},
   "outputs": [
    {
     "name": "stderr",
     "output_type": "stream",
     "text": [
      "25/10/14 17:14:56 WARN SparkStringUtils: Truncated the string representation of a plan since it was too large. This behavior can be adjusted by setting 'spark.sql.debug.maxToStringFields'.\n",
      "[Stage 10:===================================================>    (11 + 1) / 12]\r"
     ]
    },
    {
     "name": "stdout",
     "output_type": "stream",
     "text": [
      "-RECORD 0--------------------------------------------------------------------------------------------------------------------------------------------------\n",
      " diseaseId                          | EFO_0002689                                                                                                          \n",
      " studyId                            | GCST004227                                                                                                           \n",
      " geneId                             | NULL                                                                                                                 \n",
      " projectId                          | GCST                                                                                                                 \n",
      " studyType                          | gwas                                                                                                                 \n",
      " traitFromSource                    | Obstetric antiphospholipid syndrome                                                                                  \n",
      " traitFromSourceMappedIds           | [EFO_0002689]                                                                                                        \n",
      " biosampleFromSourceId              | NULL                                                                                                                 \n",
      " pubmedId                           | 28424481                                                                                                             \n",
      " publicationTitle                   | The first genome-wide association study identifying new susceptibility loci for obstetric antiphospholipid syndrome. \n",
      " publicationFirstAuthor             | Sugiura-Ogasawara M                                                                                                  \n",
      " publicationDate                    | 2017-04-20                                                                                                           \n",
      " publicationJournal                 | J Hum Genet                                                                                                          \n",
      " backgroundTraitFromSourceMappedIds | NULL                                                                                                                 \n",
      " initialSampleSize                  | 115 Japanese ancestry female cases, 419 Japanese ancestry male and female controls                                   \n",
      " nCases                             | 115                                                                                                                  \n",
      " nControls                          | 419                                                                                                                  \n",
      " nSamples                           | 534                                                                                                                  \n",
      " cohorts                            | NULL                                                                                                                 \n",
      " ldPopulationStructure              | [{eas, 1.0}]                                                                                                         \n",
      " discoverySamples                   | [{534, East Asian}]                                                                                                  \n",
      " replicationSamples                 | []                                                                                                                   \n",
      " qualityControls                    | [Harmonized summary statistics are not available or empty]                                                           \n",
      " analysisFlags                      | []                                                                                                                   \n",
      " summarystatsLocation               | NULL                                                                                                                 \n",
      " hasSumstats                        | false                                                                                                                \n",
      " condition                          | NULL                                                                                                                 \n",
      " sumstatQCValues                    | NULL                                                                                                                 \n",
      " diseaseIds                         | [EFO_0002689]                                                                                                        \n",
      " backgroundDiseaseIds               | []                                                                                                                   \n",
      " biosampleId                        | NULL                                                                                                                 \n",
      " name                               | antiphospholipid syndrome                                                                                            \n",
      "only showing top 1 row\n",
      "\n"
     ]
    },
    {
     "name": "stderr",
     "output_type": "stream",
     "text": [
      "                                                                                \r"
     ]
    }
   ],
   "source": [
    "auto_gwas_studies = study.withColumn(\"diseaseId\", f.explode(\"diseaseIds\")).join(\n",
    "    autoimmune_diseases, on=\"diseaseId\", how=\"inner\"\n",
    ")\n",
    "auto_gwas_studies.show(1, vertical=True, truncate=False)"
   ]
  },
  {
   "cell_type": "markdown",
   "id": "f64608cd",
   "metadata": {},
   "source": [
    "6. **Extracting all credible sets in autoimmune studies**\n"
   ]
  },
  {
   "cell_type": "code",
   "execution_count": 5,
   "id": "c831bb0b",
   "metadata": {},
   "outputs": [
    {
     "name": "stderr",
     "output_type": "stream",
     "text": [
      "                                                                                \r"
     ]
    },
    {
     "data": {
      "text/plain": [
       "8524"
      ]
     },
     "execution_count": 5,
     "metadata": {},
     "output_type": "execute_result"
    }
   ],
   "source": [
    "auto_cs = auto_gwas_studies.join(credible_set, on=\"studyId\", how=\"inner\")\n",
    "auto_cs.count()"
   ]
  },
  {
   "cell_type": "markdown",
   "id": "039f27cd",
   "metadata": {},
   "source": [
    "7. **Find colocalising molecular QTLs for each credible set**"
   ]
  },
  {
   "cell_type": "markdown",
   "id": "2d25614e",
   "metadata": {},
   "source": [
    "The colocalisation dataset contains all GWAS - GWAS and GWAS - molQTL credible sets. This order is persisted, therefore all molQTL credible sets are in the right side of the colocalisation results. "
   ]
  },
  {
   "cell_type": "code",
   "execution_count": 6,
   "id": "225cf346",
   "metadata": {},
   "outputs": [
    {
     "name": "stderr",
     "output_type": "stream",
     "text": [
      "                                                                                \r"
     ]
    },
    {
     "data": {
      "text/plain": [
       "207489"
      ]
     },
     "execution_count": 6,
     "metadata": {},
     "output_type": "execute_result"
    }
   ],
   "source": [
    "auto_cs_colocalisations = (\n",
    "    auto_cs.withColumnRenamed(\"studyLocusId\", \"leftStudyLocusId\")\n",
    "    .alias(\"gwas\")\n",
    "    # Bring study information for the GWAS study\n",
    "    .join(\n",
    "        study.alias(\"gwas_study\"),\n",
    "        on=[f.col(\"gwas_study.studyId\") == f.col(\"gwas.studyId\")],\n",
    "        how=\"inner\",\n",
    "    )\n",
    "    # Bring colocalisation results\n",
    "    .join(\n",
    "        colocalisation.alias(\"colocalisation\").filter(\n",
    "            # Sensible filter for colocalisation results\n",
    "            (f.col(\"clpp\") > 0.01) | (f.col(\"h4\") > 0.8)\n",
    "        ),\n",
    "        on=\"leftStudyLocusId\",\n",
    "        how=\"inner\",\n",
    "    )\n",
    "    # ignore GWAS - GWAS colocalisations\n",
    "    .filter(f.col(\"rightStudyType\") != \"gwas\")\n",
    "    # Bring molQTL credible set information\n",
    "    .join(\n",
    "        credible_set.alias(\"molQTL\").withColumnRenamed(\n",
    "            \"studyLocusId\", \"rightStudyLocusId\"\n",
    "        ),\n",
    "        on=\"rightStudyLocusId\",\n",
    "        how=\"inner\",\n",
    "    )\n",
    "    # Bring study information for the molQTL study\n",
    "    .join(\n",
    "        study.alias(\"molQTL_study\"),\n",
    "        on=[f.col(\"molQTL_study.studyId\") == f.col(\"molQTL.studyId\")],\n",
    "        how=\"inner\",\n",
    "    )\n",
    "    # Add approved symbol for the molQTL gene\n",
    "    .join(\n",
    "        target.select(\"approvedSymbol\", \"id\").alias(\"molQTL_target\"),\n",
    "        on=f.col(\"molQTL_target.id\") == f.col(\"molQTL_study.geneId\"),\n",
    "        how=\"left\",\n",
    "    )\n",
    "    # Add biosample information\n",
    "    .join(\n",
    "        biosample.select(\"biosampleId\", \"biosampleName\").alias(\"molQTL_biosample\"),\n",
    "        on=f.col(\"molQTL_study.biosampleId\") == f.col(\"molQTL_biosample.biosampleId\"),\n",
    "        how=\"left\",\n",
    "    )\n",
    ")\n",
    "# Count of moQTL colocalising with autoimmune disease credible sets across tissues/cell types\n",
    "auto_cs_colocalisations.count()"
   ]
  },
  {
   "cell_type": "markdown",
   "id": "2f77b3c1",
   "metadata": {},
   "source": [
    "8. **Select columns of interest to print/write**"
   ]
  },
  {
   "cell_type": "code",
   "execution_count": null,
   "id": "eff3a448",
   "metadata": {},
   "outputs": [
    {
     "name": "stderr",
     "output_type": "stream",
     "text": [
      "[Stage 239:=================================>                     (12 + 8) / 20]\r"
     ]
    },
    {
     "name": "stdout",
     "output_type": "stream",
     "text": [
      "+------------+------------------+---------------+--------+-------------------------------------------------------+---------------------------------+-------------+--------------------------+--------------------------------+--------------+--------------+--------------------+-------------+-----------------+-----------+---------------+--------------+---------------+--------------+-------------+---------+-----------+--------------------+-------------+--------------+--------------+\n",
      "|studyId     |publicationJournal|publicationDate|nSamples|ldPopulationStructure                                  |traitFromSource                  |diseaseIds   |diseaseName               |leftStudyLocusId                |pValueMantissa|pValueExponent|beta                |standardError|fineMappingMethod|hasSumstats|leadVariant    |approvedSymbol|id             |biosampleId   |biosampleName|condition|projectId  |beta                |standardError|pValueMantissa|pValueExponent|\n",
      "+------------+------------------+---------------+--------+-------------------------------------------------------+---------------------------------+-------------+--------------------------+--------------------------------+--------------+--------------+--------------------+-------------+-----------------+-----------+---------------+--------------+---------------+--------------+-------------+---------+-----------+--------------------+-------------+--------------+--------------+\n",
      "|GCST004132  |Nat Genet         |2017-01-09     |40266   |[{nfe, 1.0}]                                           |Crohn's disease                  |[EFO_0000384]|Crohn's disease           |ef5bbc200a9d2e7d6e7d42d2562deb71|1.3413693     |-21           |0.046375001746877545|NULL         |SuSiE-inf        |true       |5_131619794_G_A|ACADSB        |ENSG00000196177|UBERON_0001969|blood plasma |NULL     |UKB_PPP_EUR|-0.04915397716855516|NULL         |5.1966176     |-20           |\n",
      "|GCST90292538|Nat Genet         |2023-05-08     |398668  |[{eas, 0.07487182317115997}, {nfe, 0.9251281768288401}]|Inflammatory bowel disease       |[EFO_0003767]|inflammatory bowel disease|26b4c5dbd8d5ffe9f5e8be64e1d6cccf|2.5772731     |-17           |0.26430569613936417 |NULL         |SuSiE-inf        |true       |5_131726714_T_C|ACADSB        |ENSG00000196177|UBERON_0001969|blood plasma |NULL     |UKB_PPP_EUR|-0.04915397716855516|NULL         |5.1966176     |-20           |\n",
      "|GCST004131  |Nat Genet         |2017-01-09     |59957   |[{nfe, 1.0}]                                           |Inflammatory bowel disease       |[EFO_0003767]|inflammatory bowel disease|eae88b74139f7b371a2096c07bc2c625|4.8930926     |-15           |0.031226267912054323|NULL         |SuSiE-inf        |true       |5_131087866_G_A|ACADSB        |ENSG00000196177|UBERON_0001969|blood plasma |NULL     |UKB_PPP_EUR|-0.04915397716855516|NULL         |5.1966176     |-20           |\n",
      "|GCST90446792|Nat Genet         |2023-05-08     |367592  |[{nfe, 0.9378985396853032}, {eas, 0.06210146031469673}]|Crohn's disease                  |[EFO_0000384]|Crohn's disease           |3c921518a863f304492fdf7eee92eb69|1.7288699     |-23           |0.12039596971640767 |NULL         |SuSiE-inf        |true       |5_131619794_G_A|ACADSB        |ENSG00000196177|UBERON_0001969|blood plasma |NULL     |UKB_PPP_EUR|-0.04915397716855516|NULL         |5.1966176     |-20           |\n",
      "|GCST004131  |Nat Genet         |2017-01-09     |59957   |[{nfe, 1.0}]                                           |Inflammatory bowel disease       |[EFO_0003767]|inflammatory bowel disease|eae88b74139f7b371a2096c07bc2c625|4.8930926     |-15           |0.031226267912054323|NULL         |SuSiE-inf        |true       |5_131087866_G_A|ACADSB        |ENSG00000196177|UBERON_0001969|blood plasma |NULL     |UKB_PPP_EUR|-0.04915397716855516|NULL         |5.1966176     |-20           |\n",
      "|GCST90446792|Nat Genet         |2023-05-08     |367592  |[{nfe, 0.9378985396853032}, {eas, 0.06210146031469673}]|Crohn's disease                  |[EFO_0000384]|Crohn's disease           |3c921518a863f304492fdf7eee92eb69|1.7288699     |-23           |0.12039596971640767 |NULL         |SuSiE-inf        |true       |5_131619794_G_A|ACADSB        |ENSG00000196177|UBERON_0001969|blood plasma |NULL     |UKB_PPP_EUR|-0.04915397716855516|NULL         |5.1966176     |-20           |\n",
      "|GCST004132  |Nat Genet         |2017-01-09     |40266   |[{nfe, 1.0}]                                           |Crohn's disease                  |[EFO_0000384]|Crohn's disease           |ef5bbc200a9d2e7d6e7d42d2562deb71|1.3413693     |-21           |0.046375001746877545|NULL         |SuSiE-inf        |true       |5_131619794_G_A|ACADSB        |ENSG00000196177|UBERON_0001969|blood plasma |NULL     |UKB_PPP_EUR|-0.04915397716855516|NULL         |5.1966176     |-20           |\n",
      "|GCST90292538|Nat Genet         |2023-05-08     |398668  |[{eas, 0.07487182317115997}, {nfe, 0.9251281768288401}]|Inflammatory bowel disease       |[EFO_0003767]|inflammatory bowel disease|26b4c5dbd8d5ffe9f5e8be64e1d6cccf|2.5772731     |-17           |0.26430569613936417 |NULL         |SuSiE-inf        |true       |5_131726714_T_C|ACADSB        |ENSG00000196177|UBERON_0001969|blood plasma |NULL     |UKB_PPP_EUR|-0.04915397716855516|NULL         |5.1966176     |-20           |\n",
      "|GCST90292538|Nat Genet         |2023-05-08     |398668  |[{eas, 0.07487182317115997}, {nfe, 0.9251281768288401}]|Inflammatory bowel disease       |[EFO_0003767]|inflammatory bowel disease|c0d93110836c2ca578278c704e2c24f5|1.3071569     |-24           |0.11343180498925758 |NULL         |SuSiE-inf        |true       |5_132358384_T_C|ACADSB        |ENSG00000196177|UBERON_0001969|blood plasma |NULL     |UKB_PPP_EUR|-0.07564460388343004|NULL         |3.0762744     |-38           |\n",
      "|GCST90446792|Nat Genet         |2023-05-08     |367592  |[{nfe, 0.9378985396853032}, {eas, 0.06210146031469673}]|Crohn's disease                  |[EFO_0000384]|Crohn's disease           |474546622058569f648ca9f983371732|9.944268      |-30           |0.8037413932325661  |NULL         |SuSiE-inf        |true       |5_132358384_T_C|ACADSB        |ENSG00000196177|UBERON_0001969|blood plasma |NULL     |UKB_PPP_EUR|-0.07564460388343004|NULL         |3.0762744     |-38           |\n",
      "|GCST90503485|FASEB J           |2025-01-01     |82967   |[{nfe, 1.0}]                                           |Inflammatory bowel disease (MTAG)|[EFO_0003767]|inflammatory bowel disease|e44e6a274a31e120fdd3d7439600dff8|2.0           |-15           |NULL                |NULL         |PICS             |false      |5_132381358_G_A|ACADSB        |ENSG00000196177|UBERON_0001969|blood plasma |NULL     |UKB_PPP_EUR|-0.07564460388343004|NULL         |3.0762744     |-38           |\n",
      "|GCST90292538|Nat Genet         |2023-05-08     |398668  |[{eas, 0.07487182317115997}, {nfe, 0.9251281768288401}]|Inflammatory bowel disease       |[EFO_0003767]|inflammatory bowel disease|c0d93110836c2ca578278c704e2c24f5|1.3071569     |-24           |0.11343180498925758 |NULL         |SuSiE-inf        |true       |5_132358384_T_C|ACADSB        |ENSG00000196177|UBERON_0001969|blood plasma |NULL     |UKB_PPP_EUR|-0.07564460388343004|NULL         |3.0762744     |-38           |\n",
      "|GCST90446792|Nat Genet         |2023-05-08     |367592  |[{nfe, 0.9378985396853032}, {eas, 0.06210146031469673}]|Crohn's disease                  |[EFO_0000384]|Crohn's disease           |474546622058569f648ca9f983371732|9.944268      |-30           |0.8037413932325661  |NULL         |SuSiE-inf        |true       |5_132358384_T_C|ACADSB        |ENSG00000196177|UBERON_0001969|blood plasma |NULL     |UKB_PPP_EUR|-0.07564460388343004|NULL         |3.0762744     |-38           |\n",
      "|GCST90292538|Nat Genet         |2023-05-08     |398668  |[{eas, 0.07487182317115997}, {nfe, 0.9251281768288401}]|Inflammatory bowel disease       |[EFO_0003767]|inflammatory bowel disease|e5865ba71a7f7e90f137e32ac36193d1|3.6405754     |-19           |0.07883517268551889 |NULL         |SuSiE-inf        |true       |5_131087866_G_A|ACADSB        |ENSG00000196177|UBERON_0001969|blood plasma |NULL     |UKB_PPP_EUR|-0.05006331460720412|NULL         |4.3954277     |-19           |\n",
      "|GCST90446792|Nat Genet         |2023-05-08     |367592  |[{nfe, 0.9378985396853032}, {eas, 0.06210146031469673}]|Crohn's disease                  |[EFO_0000384]|Crohn's disease           |aa5800230c6eb693a7f56a845e43c455|6.384014      |-23           |0.09908277880411435 |NULL         |SuSiE-inf        |true       |5_131087866_G_A|ACADSB        |ENSG00000196177|UBERON_0001969|blood plasma |NULL     |UKB_PPP_EUR|-0.05006331460720412|NULL         |4.3954277     |-19           |\n",
      "|GCST004132  |Nat Genet         |2017-01-09     |40266   |[{nfe, 1.0}]                                           |Crohn's disease                  |[EFO_0000384]|Crohn's disease           |27a4b29a03a8f7fa920bc9ae33f85c89|4.157236      |-20           |0.04292663093441085 |NULL         |SuSiE-inf        |true       |5_131087866_G_A|ACADSB        |ENSG00000196177|UBERON_0001969|blood plasma |NULL     |UKB_PPP_EUR|-0.05006331460720412|NULL         |4.3954277     |-19           |\n",
      "|GCST004131  |Nat Genet         |2017-01-09     |59957   |[{nfe, 1.0}]                                           |Inflammatory bowel disease       |[EFO_0003767]|inflammatory bowel disease|eae88b74139f7b371a2096c07bc2c625|4.8930926     |-15           |0.031226267912054323|NULL         |SuSiE-inf        |true       |5_131087866_G_A|ACADSB        |ENSG00000196177|UBERON_0001969|blood plasma |NULL     |UKB_PPP_EUR|-0.05006331460720412|NULL         |4.3954277     |-19           |\n",
      "|GCST90292538|Nat Genet         |2023-05-08     |398668  |[{eas, 0.07487182317115997}, {nfe, 0.9251281768288401}]|Inflammatory bowel disease       |[EFO_0003767]|inflammatory bowel disease|e5865ba71a7f7e90f137e32ac36193d1|3.6405754     |-19           |0.07883517268551889 |NULL         |SuSiE-inf        |true       |5_131087866_G_A|ACADSB        |ENSG00000196177|UBERON_0001969|blood plasma |NULL     |UKB_PPP_EUR|-0.05006331460720412|NULL         |4.3954277     |-19           |\n",
      "|GCST90446792|Nat Genet         |2023-05-08     |367592  |[{nfe, 0.9378985396853032}, {eas, 0.06210146031469673}]|Crohn's disease                  |[EFO_0000384]|Crohn's disease           |aa5800230c6eb693a7f56a845e43c455|6.384014      |-23           |0.09908277880411435 |NULL         |SuSiE-inf        |true       |5_131087866_G_A|ACADSB        |ENSG00000196177|UBERON_0001969|blood plasma |NULL     |UKB_PPP_EUR|-0.05006331460720412|NULL         |4.3954277     |-19           |\n",
      "|GCST004131  |Nat Genet         |2017-01-09     |59957   |[{nfe, 1.0}]                                           |Inflammatory bowel disease       |[EFO_0003767]|inflammatory bowel disease|eae88b74139f7b371a2096c07bc2c625|4.8930926     |-15           |0.031226267912054323|NULL         |SuSiE-inf        |true       |5_131087866_G_A|ACADSB        |ENSG00000196177|UBERON_0001969|blood plasma |NULL     |UKB_PPP_EUR|-0.05006331460720412|NULL         |4.3954277     |-19           |\n",
      "+------------+------------------+---------------+--------+-------------------------------------------------------+---------------------------------+-------------+--------------------------+--------------------------------+--------------+--------------+--------------------+-------------+-----------------+-----------+---------------+--------------+---------------+--------------+-------------+---------+-----------+--------------------+-------------+--------------+--------------+\n",
      "only showing top 20 rows\n",
      "\n"
     ]
    },
    {
     "name": "stderr",
     "output_type": "stream",
     "text": [
      "                                                                                \r"
     ]
    }
   ],
   "source": [
    "cs_out = auto_cs_colocalisations.select(\n",
    "    # About the study\n",
    "    \"gwas_study.studyId\",\n",
    "    \"gwas_study.publicationJournal\",\n",
    "    \"gwas_study.publicationDate\",\n",
    "    \"gwas_study.nSamples\",\n",
    "    \"gwas_study.ldPopulationStructure\",\n",
    "    \"gwas_study.traitFromSource\",\n",
    "    \"gwas_study.diseaseIds\",\n",
    "    f.col(\"name\").alias(\"diseaseName\"),\n",
    "    # About the credible set\n",
    "    \"gwas.leftStudyLocusId\",\n",
    "    \"gwas.pValueMantissa\",\n",
    "    \"gwas.pValueExponent\",\n",
    "    \"gwas.beta\",\n",
    "    \"gwas.standardError\",\n",
    "    \"gwas.fineMappingMethod\",\n",
    "    \"gwas.hasSumstats\",\n",
    "    f.col(\"gwas.variantId\").alias(\"leadVariant\"),\n",
    "    # About the molecular QTL\n",
    "    \"molQTL_target.approvedSymbol\",\n",
    "    \"molQTL_target.id\",\n",
    "    \"molQTL_study.biosampleId\",\n",
    "    \"molQTL_biosample.biosampleName\",\n",
    "    \"molQTL_study.condition\",\n",
    "    \"molQTL_study.projectId\",\n",
    "    \"molQTL.beta\",\n",
    "    \"molQTL.standardError\",\n",
    "    \"molQTL.pValueMantissa\",\n",
    "    \"molQTL.pValueExponent\",    \n",
    ")\n",
    "\n",
    "cs_out.show(truncate=False)\n",
    "\n",
    "# This dataframe can be written to different formats including parquet file:\n",
    "# cs_out.write.parquet(\"../tmp/autoimmune_credible_set_parquet\", mode=\"overwrite\")\n",
    "# or csv:\n",
    "# cs_out.drop(\"ldPopulationStructure\").coalesce(1).write.csv(\n",
    "#     \"../tmp/autoimmune_credible_set_csv\",\n",
    "#     mode=\"overwrite\",\n",
    "#     header=True,\n",
    "# )"
   ]
  }
 ],
 "metadata": {
  "kernelspec": {
   "display_name": ".venv",
   "language": "python",
   "name": "python3"
  },
  "language_info": {
   "codemirror_mode": {
    "name": "ipython",
    "version": 3
   },
   "file_extension": ".py",
   "mimetype": "text/x-python",
   "name": "python",
   "nbconvert_exporter": "python",
   "pygments_lexer": "ipython3",
   "version": "3.12.11"
  }
 },
 "nbformat": 4,
 "nbformat_minor": 5
}
