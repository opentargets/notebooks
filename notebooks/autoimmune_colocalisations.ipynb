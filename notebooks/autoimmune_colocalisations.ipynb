{
 "cells": [
  {
   "cell_type": "markdown",
   "id": "38424346",
   "metadata": {},
   "source": [
    "# Autoimmune colocalisations"
   ]
  },
  {
   "cell_type": "markdown",
   "id": "e12686b2",
   "metadata": {},
   "source": [
    "The purpose of this notebook is to extract colocalisations for GWAS credible set associated with autoimmune diseases, including additional metadata about the studies."
   ]
  },
  {
   "cell_type": "markdown",
   "id": "e92cd97a",
   "metadata": {},
   "source": [
    "1. **Download datasets from Open Targets Platform**"
   ]
  },
  {
   "cell_type": "code",
   "execution_count": 14,
   "id": "743efd52",
   "metadata": {},
   "outputs": [],
   "source": [
    "%%bash\n",
    "release=\"25.06\"\n",
    "datasets=(\"study\" \"credible_set\" \"colocalisation_coloc\" \"colocalisation_ecaviar\" \"target\" \"disease\" \"biosample\")\n",
    "for dataset in \"${datasets[@]}\"\n",
    "    do mkdir -p ../tmp/\"${dataset}\"\n",
    "    # Rsync the data from EBI FTP server\n",
    "    rsync -rpltvz --delete rsync.ebi.ac.uk::pub/databases/opentargets/platform/${release}/output/${dataset} ../tmp/\n",
    "done"
   ]
  },
  {
   "cell_type": "markdown",
   "id": "a7366eb2",
   "metadata": {},
   "source": [
    "2. **Python environment and Spark session**"
   ]
  },
  {
   "cell_type": "code",
   "execution_count": 1,
   "id": "e9db13d5",
   "metadata": {},
   "outputs": [],
   "source": [
    "from pyspark.sql import SparkSession\n",
    "import pyspark.sql.functions as f\n",
    "\n",
    "# Starting a Spark session\n",
    "spark = SparkSession.builder.config(\"spark.driver.memory\", \"8g\").getOrCreate()"
   ]
  },
  {
   "cell_type": "markdown",
   "id": "e8e850b8",
   "metadata": {},
   "source": [
    "3. **Read downloaded datasets**"
   ]
  },
  {
   "cell_type": "code",
   "execution_count": 15,
   "id": "376095dc",
   "metadata": {},
   "outputs": [],
   "source": [
    "# Reading datasets\n",
    "credible_set = spark.read.parquet(\"../tmp/credible_set\")\n",
    "\n",
    "# Union two colocalisation datasets \"colocalisation_ecaviar\" and \"colocalisation_coloc\"\n",
    "colocalisation_coloc = spark.read.parquet(\"../tmp/colocalisation_coloc\")\n",
    "colocalisation_ecaviar = spark.read.parquet(\"../tmp/colocalisation_ecaviar\")\n",
    "colocalisation = colocalisation_coloc.unionByName(\n",
    "    colocalisation_ecaviar, allowMissingColumns=True\n",
    ")\n",
    "\n",
    "# Read other datasets\n",
    "study = spark.read.parquet(\"../tmp/study\")\n",
    "target = spark.read.parquet(\"../tmp/target\")\n",
    "disease = spark.read.parquet(\"../tmp/disease\")\n",
    "biosample = spark.read.parquet(\"../tmp/biosample\")"
   ]
  },
  {
   "cell_type": "markdown",
   "id": "f594ea90",
   "metadata": {},
   "source": [
    "4. **Finding all autoimmune diseases according to EFO**"
   ]
  },
  {
   "cell_type": "code",
   "execution_count": 3,
   "id": "80de269b",
   "metadata": {},
   "outputs": [],
   "source": [
    "autoimmune_efo = \"EFO_0005140\"\n",
    "autoimmune_diseases = (\n",
    "    disease.filter(f.col(\"id\") == autoimmune_efo)\n",
    "    .select(f.explode(\"descendants\").alias(\"diseaseId\"))\n",
    "    .join(\n",
    "        disease.select(f.col(\"id\").alias(\"diseaseId\"), \"name\"),\n",
    "        on=\"diseaseId\",\n",
    "        how=\"left\",\n",
    "    )\n",
    ")\n",
    "autoimmune_diseases.show(truncate=False)"
   ]
  },
  {
   "cell_type": "markdown",
   "id": "da9475b6",
   "metadata": {},
   "source": [
    "5. **Finding all GWAS studies for autoimmune diseases**\n"
   ]
  },
  {
   "cell_type": "code",
   "execution_count": 4,
   "id": "e6170c7b",
   "metadata": {},
   "outputs": [],
   "source": [
    "auto_gwas_studies = study.withColumn(\"diseaseId\", f.explode(\"diseaseIds\")).join(\n",
    "    autoimmune_diseases, on=\"diseaseId\", how=\"inner\"\n",
    ")\n",
    "auto_gwas_studies.show(1, vertical=True, truncate=False)"
   ]
  },
  {
   "cell_type": "markdown",
   "id": "f64608cd",
   "metadata": {},
   "source": [
    "6. **Extracting all credible sets in autoimmune studies**\n"
   ]
  },
  {
   "cell_type": "code",
   "execution_count": 5,
   "id": "c831bb0b",
   "metadata": {},
   "outputs": [],
   "source": [
    "auto_cs = auto_gwas_studies.join(credible_set, on=\"studyId\", how=\"inner\")\n",
    "auto_cs.count()"
   ]
  },
  {
   "cell_type": "markdown",
   "id": "039f27cd",
   "metadata": {},
   "source": [
    "7. **Find colocalising molecular QTLs for each credible set**"
   ]
  },
  {
   "cell_type": "markdown",
   "id": "2d25614e",
   "metadata": {},
   "source": [
    "The colocalisation dataset contains all GWAS - GWAS and GWAS - molQTL credible sets. This order is persisted, therefore all molQTL credible sets are in the right side of the colocalisation results. "
   ]
  },
  {
   "cell_type": "code",
   "execution_count": 25,
   "id": "225cf346",
   "metadata": {},
   "outputs": [],
   "source": [
    "auto_cs_colocalisations = (\n",
    "    auto_cs.withColumnRenamed(\"studyLocusId\", \"leftStudyLocusId\")\n",
    "    .alias(\"gwas\")\n",
    "    # Bring study information for the GWAS study\n",
    "    .join(\n",
    "        study.alias(\"gwas_study\"),\n",
    "        on=[f.col(\"gwas_study.studyId\") == f.col(\"gwas.studyId\")],\n",
    "        how=\"inner\",\n",
    "    )\n",
    "    # Bring colocalisation results\n",
    "    .join(\n",
    "        colocalisation.alias(\"colocalisation\").filter(\n",
    "            # Sensible filter for colocalisation results\n",
    "            (f.col(\"clpp\") > 0.01) | (f.col(\"h4\") > 0.8)\n",
    "        ),\n",
    "        on=\"leftStudyLocusId\",\n",
    "        how=\"inner\",\n",
    "    )\n",
    "    # ignore GWAS - GWAS colocalisations\n",
    "    .filter(f.col(\"rightStudyType\") != \"gwas\")\n",
    "    # Bring molQTL credible set information\n",
    "    .join(\n",
    "        credible_set.alias(\"molQTL\").withColumnRenamed(\n",
    "            \"studyLocusId\", \"rightStudyLocusId\"\n",
    "        ),\n",
    "        on=\"rightStudyLocusId\",\n",
    "        how=\"inner\",\n",
    "    )\n",
    "    # Bring study information for the molQTL study\n",
    "    .join(\n",
    "        study.alias(\"molQTL_study\"),\n",
    "        on=[f.col(\"molQTL_study.studyId\") == f.col(\"molQTL.studyId\")],\n",
    "        how=\"inner\",\n",
    "    )\n",
    "    # Add approved symbol for the molQTL gene\n",
    "    .join(\n",
    "        target.select(\"approvedSymbol\", \"id\").alias(\"molQTL_target\"),\n",
    "        on=f.col(\"molQTL_target.id\") == f.col(\"molQTL_study.geneId\"),\n",
    "        how=\"left\",\n",
    "    )\n",
    "    # Add biosample information\n",
    "    .join(\n",
    "        biosample.select(\"biosampleId\", \"biosampleName\").alias(\"molQTL_biosample\"),\n",
    "        on=f.col(\"molQTL_study.biosampleId\") == f.col(\"molQTL_biosample.biosampleId\"),\n",
    "        how=\"left\",\n",
    "    )\n",
    ")\n",
    "# Count of moQTL colocalising with autoimmune disease credible sets across tissues/cell types\n",
    "auto_cs_colocalisations.count()"
   ]
  },
  {
   "cell_type": "markdown",
   "id": "2f77b3c1",
   "metadata": {},
   "source": [
    "8. **Select columns of interest to print/write**"
   ]
  },
  {
   "cell_type": "code",
   "execution_count": null,
   "id": "eff3a448",
   "metadata": {},
   "outputs": [],
   "source": [
    "cs_out = auto_cs_colocalisations.select(\n",
    "    # About the study\n",
    "    \"studyId\",\n",
    "    \"publicationJournal\",\n",
    "    \"publicationDate\",\n",
    "    \"nSamples\",\n",
    "    \"ldPopulationStructure\",\n",
    "    \"traitFromSource\",\n",
    "    \"diseaseId\",\n",
    "    f.col(\"name\").alias(\"diseaseName\"),\n",
    "    # About the credible set\n",
    "    \"studyLocusId\",\n",
    "    \"pValueMantissa\",\n",
    "    \"pValueExponent\",\n",
    "    \"beta\",\n",
    "    \"standardError\",\n",
    "    \"fineMappingMethod\",\n",
    "    \"hasSumstats\",\n",
    "    f.col(\"variantId\").alias(\"leadVariant\"),\n",
    "    # About the gene\n",
    "    \"topGeneSymbol\",\n",
    "    \"topGeneId\",\n",
    "    \"top_L2G_score\",\n",
    ")\n",
    "\n",
    "cs_out.show(truncate=False)\n",
    "\n",
    "# This dataframe can be written to different formats including parquet file:\n",
    "# cs_out.write.parquet(\"../tmp/autoimmune_credible_set_parquet\", mode=\"overwrite\")\n",
    "# or csv:\n",
    "# cs_out.drop(\"ldPopulationStructure\").coalesce(1).write.csv(\n",
    "#     \"../tmp/autoimmune_credible_set_csv\",\n",
    "#     mode=\"overwrite\",\n",
    "#     header=True,\n",
    "# )"
   ]
  }
 ],
 "metadata": {
  "kernelspec": {
   "display_name": ".venv",
   "language": "python",
   "name": "python3"
  },
  "language_info": {
   "codemirror_mode": {
    "name": "ipython",
    "version": 3
   },
   "file_extension": ".py",
   "mimetype": "text/x-python",
   "name": "python",
   "nbconvert_exporter": "python",
   "pygments_lexer": "ipython3",
   "version": "3.12.11"
  }
 },
 "nbformat": 4,
 "nbformat_minor": 5
}
