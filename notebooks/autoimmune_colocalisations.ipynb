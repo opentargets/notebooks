{
 "cells": [
  {
   "cell_type": "markdown",
   "id": "38424346",
   "metadata": {},
   "source": [
    "# Autoimmune colocalisations"
   ]
  },
  {
   "cell_type": "markdown",
   "id": "e12686b2",
   "metadata": {},
   "source": [
    "The purpose of this notebook is to extract colocalisations for GWAS credible set associated with autoimmune diseases, including additional metadata about the studies."
   ]
  },
  {
   "cell_type": "markdown",
   "id": "e92cd97a",
   "metadata": {},
   "source": [
    "1. **Download datasets from Open Targets Platform**"
   ]
  },
  {
   "cell_type": "markdown",
   "id": "b5c5a251",
   "metadata": {
    "vscode": {
     "languageId": "shellscript"
    }
   },
   "source": [
    "The next snippet allows you to synch the datasets from the EBI FTP server to your local machine. It creates a temporary directory for each dataset and uses `rsync` to download the data. Alternatively, you could download the data directly from EBI FTP sever or the Google Cloud Storage bucket. More info on how to download data in the [Open Targets Platform documentation](https://platform-docs.opentargets.org/data-access/datasets).\n"
   ]
  },
  {
   "cell_type": "code",
   "execution_count": 14,
   "id": "743efd52",
   "metadata": {
    "vscode": {
     "languageId": "shellscript"
    }
   },
   "outputs": [
    {
     "name": "stdout",
     "output_type": "stream",
     "text": [
      "receiving incremental file list\n",
      "\n",
      "sent 29 bytes  received 161 bytes  380.00 bytes/sec\n",
      "total size is 93,324,727  speedup is 491,182.77\n",
      "receiving incremental file list\n",
      "\n",
      "sent 29 bytes  received 1,843 bytes  1,248.00 bytes/sec\n",
      "total size is 2,578,157,705  speedup is 1,377,220.00\n",
      "receiving incremental file list\n",
      "\n",
      "sent 29 bytes  received 1,853 bytes  3,764.00 bytes/sec\n",
      "total size is 3,774,708,529  speedup is 2,005,689.97\n",
      "receiving incremental file list\n",
      "\n",
      "sent 29 bytes  received 1,847 bytes  3,752.00 bytes/sec\n",
      "total size is 5,074,430,950  speedup is 2,704,920.55\n",
      "receiving incremental file list\n",
      "\n",
      "sent 29 bytes  received 764 bytes  528.67 bytes/sec\n",
      "total size is 75,451,617  speedup is 95,147.06\n",
      "receiving incremental file list\n"
     ]
    },
    {
     "name": "stderr",
     "output_type": "stream",
     "text": [
      "rsync: [sender] link_stat \"/databases/opentargets/platform/25.06/output/disease,\" (in pub) failed: No such file or directory (2)\n"
     ]
    },
    {
     "name": "stdout",
     "output_type": "stream",
     "text": [
      "\n",
      "sent 8 bytes  received 149 bytes  314.00 bytes/sec\n",
      "total size is 0  speedup is 0.00\n"
     ]
    },
    {
     "name": "stderr",
     "output_type": "stream",
     "text": [
      "rsync error: some files/attrs were not transferred (see previous errors) (code 23) at main.c(1865) [Receiver=3.2.7]\n"
     ]
    },
    {
     "name": "stdout",
     "output_type": "stream",
     "text": [
      "receiving incremental file list\n",
      "biosample/\n",
      "biosample/_SUCCESS\n",
      "biosample/part-00000-9a0782ce-d126-4164-9b2a-e32529959a6b-c000.snappy.parquet\n",
      "\n",
      "sent 70 bytes  received 5,497,887 bytes  10,995,914.00 bytes/sec\n",
      "total size is 6,296,680  speedup is 1.15\n"
     ]
    }
   ],
   "source": [
    "%%bash\n",
    "release=\"25.06\"\n",
    "datasets=(\"study\" \"credible_set\" \"colocalisation_coloc\" \"colocalisation_ecaviar\" \"target\" \"disease\", \"biosample\")\n",
    "for dataset in \"${datasets[@]}\"\n",
    "    do mkdir -p ../tmp/\"${dataset}\"\n",
    "    # Rsync the data from EBI FTP server\n",
    "    rsync -rpltvz --delete rsync.ebi.ac.uk::pub/databases/opentargets/platform/${release}/output/${dataset} ../tmp/\n",
    "done\n"
   ]
  },
  {
   "cell_type": "markdown",
   "id": "a7366eb2",
   "metadata": {},
   "source": [
    "2. **Python environment and Spark session**"
   ]
  },
  {
   "cell_type": "code",
   "execution_count": 1,
   "id": "e9db13d5",
   "metadata": {},
   "outputs": [
    {
     "name": "stderr",
     "output_type": "stream",
     "text": [
      "Setting default log level to \"WARN\".\n",
      "To adjust logging level use sc.setLogLevel(newLevel). For SparkR, use setLogLevel(newLevel).\n",
      "25/07/04 14:43:03 WARN NativeCodeLoader: Unable to load native-hadoop library for your platform... using builtin-java classes where applicable\n"
     ]
    }
   ],
   "source": [
    "from pathlib import Path\n",
    "from pyspark.sql import SparkSession\n",
    "import pyspark.sql.functions as f\n",
    "\n",
    "# Starting a Spark session\n",
    "spark = SparkSession.builder.config(\"spark.driver.memory\", \"8g\").getOrCreate()\n"
   ]
  },
  {
   "cell_type": "markdown",
   "id": "e8e850b8",
   "metadata": {},
   "source": [
    "3. **Read downloaded datasets**"
   ]
  },
  {
   "cell_type": "code",
   "execution_count": 15,
   "id": "376095dc",
   "metadata": {},
   "outputs": [],
   "source": [
    "# Reading datasets\n",
    "credible_set = spark.read.parquet(\n",
    "    str(Path.cwd().joinpath(\"../tmp/credible_set\").resolve())\n",
    ")\n",
    "# Union two colocalisation datasets \"colocalisation_ecaviar\" and \"colocalisation_coloc\"\n",
    "colocalisation_coloc = spark.read.parquet(\n",
    "    str(Path.cwd().joinpath(\"../tmp/colocalisation_coloc\").resolve())\n",
    ")\n",
    "colocalisation_ecaviar = spark.read.parquet(\n",
    "    str(Path.cwd().joinpath(\"../tmp/colocalisation_ecaviar\").resolve())\n",
    ")\n",
    "colocalisation = colocalisation_coloc.unionByName(\n",
    "    colocalisation_ecaviar, allowMissingColumns=True\n",
    ")\n",
    "study = spark.read.parquet(str(Path.cwd().joinpath(\"../tmp/study\").resolve()))\n",
    "target = spark.read.parquet(str(Path.cwd().joinpath(\"../tmp/target\").resolve()))\n",
    "disease = spark.read.parquet(str(Path.cwd().joinpath(\"../tmp/disease\").resolve()))\n",
    "biosample = spark.read.parquet(str(Path.cwd().joinpath(\"../tmp/biosample\").resolve()))\n"
   ]
  },
  {
   "cell_type": "markdown",
   "id": "f594ea90",
   "metadata": {},
   "source": [
    "4. **Finding all autoimmune diseases according to EFO**"
   ]
  },
  {
   "cell_type": "code",
   "execution_count": 3,
   "id": "80de269b",
   "metadata": {},
   "outputs": [
    {
     "name": "stdout",
     "output_type": "stream",
     "text": [
      "+-------------+--------------------------------------------------------------------------------+\n",
      "|diseaseId    |name                                                                            |\n",
      "+-------------+--------------------------------------------------------------------------------+\n",
      "|MONDO_0012500|chilblain lupus 1                                                               |\n",
      "|MONDO_0010894|maturity-onset diabetes of the young type 3                                     |\n",
      "|MONDO_0024278|proctocolitis                                                                   |\n",
      "|EFO_0005626  |pancolitis                                                                      |\n",
      "|EFO_0008613  |pemphigus vegetans                                                              |\n",
      "|EFO_0803379  |anti-GAD65 autoimmune neurological syndromes                                    |\n",
      "|MONDO_0005301|multiple sclerosis                                                              |\n",
      "|EFO_0008605  |IgG/IgA pemphigus                                                               |\n",
      "|EFO_0009746  |extended oligoarticular juvenile idiopathic arthritis                           |\n",
      "|MONDO_0018827|familial chilblain lupus                                                        |\n",
      "|EFO_0004826  |anti-neutrophil antibody associated vasculitis                                  |\n",
      "|MONDO_0000708|Crohn jejunoileitis                                                             |\n",
      "|EFO_0003767  |inflammatory bowel disease                                                      |\n",
      "|MONDO_0022901|Crohn disease of the esophagus                                                  |\n",
      "|MONDO_0012192|permanent neonatal diabetes mellitus-pancreatic and cerebellar agenesis syndrome|\n",
      "|EFO_0004537  |neonatal systemic lupus erythematosus                                           |\n",
      "|EFO_0007292  |Guillain-Barre syndrome                                                         |\n",
      "|EFO_0007187  |bullous pemphigoid                                                              |\n",
      "|EFO_0009538  |chronic inflammatory demyelinating polyneuropathy                               |\n",
      "|EFO_1001820  |oroficial granulomatosis                                                        |\n",
      "+-------------+--------------------------------------------------------------------------------+\n",
      "only showing top 20 rows\n",
      "\n"
     ]
    }
   ],
   "source": [
    "autoimmune_efo = \"EFO_0005140\"\n",
    "autoimmune_diseases = (\n",
    "    disease.filter(f.col(\"id\") == autoimmune_efo)\n",
    "    .select(f.explode(\"descendants\").alias(\"diseaseId\"))\n",
    "    .join(\n",
    "        disease.select(f.col(\"id\").alias(\"diseaseId\"), \"name\"),\n",
    "        on=\"diseaseId\",\n",
    "        how=\"left\",\n",
    "    )\n",
    ")\n",
    "autoimmune_diseases.show(truncate=False)\n"
   ]
  },
  {
   "cell_type": "markdown",
   "id": "da9475b6",
   "metadata": {},
   "source": [
    "5. **Finding all GWAS studies for autoimmune diseases**\n"
   ]
  },
  {
   "cell_type": "code",
   "execution_count": 4,
   "id": "e6170c7b",
   "metadata": {},
   "outputs": [
    {
     "name": "stderr",
     "output_type": "stream",
     "text": [
      "25/07/04 14:43:23 WARN SparkStringUtils: Truncated the string representation of a plan since it was too large. This behavior can be adjusted by setting 'spark.sql.debug.maxToStringFields'.\n",
      "[Stage 9:====================================================>    (11 + 1) / 12]\r"
     ]
    },
    {
     "name": "stdout",
     "output_type": "stream",
     "text": [
      "-RECORD 0--------------------------------------------------------------------------------------------------------------------------------------------------\n",
      " diseaseId                          | EFO_0002689                                                                                                          \n",
      " studyId                            | GCST004227                                                                                                           \n",
      " geneId                             | NULL                                                                                                                 \n",
      " projectId                          | GCST                                                                                                                 \n",
      " studyType                          | gwas                                                                                                                 \n",
      " traitFromSource                    | Obstetric antiphospholipid syndrome                                                                                  \n",
      " traitFromSourceMappedIds           | [EFO_0002689]                                                                                                        \n",
      " biosampleFromSourceId              | NULL                                                                                                                 \n",
      " pubmedId                           | 28424481                                                                                                             \n",
      " publicationTitle                   | The first genome-wide association study identifying new susceptibility loci for obstetric antiphospholipid syndrome. \n",
      " publicationFirstAuthor             | Sugiura-Ogasawara M                                                                                                  \n",
      " publicationDate                    | 2017-04-20                                                                                                           \n",
      " publicationJournal                 | J Hum Genet                                                                                                          \n",
      " backgroundTraitFromSourceMappedIds | NULL                                                                                                                 \n",
      " initialSampleSize                  | 115 Japanese ancestry female cases, 419 Japanese ancestry male and female controls                                   \n",
      " nCases                             | 115                                                                                                                  \n",
      " nControls                          | 419                                                                                                                  \n",
      " nSamples                           | 534                                                                                                                  \n",
      " cohorts                            | NULL                                                                                                                 \n",
      " ldPopulationStructure              | [{eas, 1.0}]                                                                                                         \n",
      " discoverySamples                   | [{534, East Asian}]                                                                                                  \n",
      " replicationSamples                 | []                                                                                                                   \n",
      " qualityControls                    | [Harmonized summary statistics are not available or empty]                                                           \n",
      " analysisFlags                      | []                                                                                                                   \n",
      " summarystatsLocation               | NULL                                                                                                                 \n",
      " hasSumstats                        | false                                                                                                                \n",
      " condition                          | NULL                                                                                                                 \n",
      " sumstatQCValues                    | NULL                                                                                                                 \n",
      " diseaseIds                         | [EFO_0002689]                                                                                                        \n",
      " backgroundDiseaseIds               | []                                                                                                                   \n",
      " biosampleId                        | NULL                                                                                                                 \n",
      " name                               | antiphospholipid syndrome                                                                                            \n",
      "only showing top 1 row\n",
      "\n"
     ]
    },
    {
     "name": "stderr",
     "output_type": "stream",
     "text": [
      "                                                                                \r"
     ]
    }
   ],
   "source": [
    "auto_gwas_studies = study.withColumn(\"diseaseId\", f.explode(\"diseaseIds\")).join(\n",
    "    autoimmune_diseases, on=\"diseaseId\", how=\"inner\"\n",
    ")\n",
    "auto_gwas_studies.show(1, vertical=True, truncate=False)\n"
   ]
  },
  {
   "cell_type": "markdown",
   "id": "f64608cd",
   "metadata": {},
   "source": [
    "6. **Extracting all credible sets in autoimmune studies**\n"
   ]
  },
  {
   "cell_type": "code",
   "execution_count": 5,
   "id": "c831bb0b",
   "metadata": {},
   "outputs": [
    {
     "name": "stderr",
     "output_type": "stream",
     "text": [
      "                                                                                \r"
     ]
    },
    {
     "data": {
      "text/plain": [
       "7621"
      ]
     },
     "execution_count": 5,
     "metadata": {},
     "output_type": "execute_result"
    }
   ],
   "source": [
    "auto_cs = auto_gwas_studies.join(credible_set, on=\"studyId\", how=\"inner\")\n",
    "auto_cs.count()\n"
   ]
  },
  {
   "cell_type": "markdown",
   "id": "039f27cd",
   "metadata": {},
   "source": [
    "7. **Find colocalising molecular QTLs for each credible set**"
   ]
  },
  {
   "cell_type": "markdown",
   "id": "2d25614e",
   "metadata": {},
   "source": [
    "The colocalisation dataset contains all GWAS - GWAS and GWAS - molQTL credible sets. This order is persisted, therefore all molQTL credible sets are in the right side of the colocalisation results. "
   ]
  },
  {
   "cell_type": "code",
   "execution_count": 25,
   "id": "225cf346",
   "metadata": {},
   "outputs": [
    {
     "name": "stderr",
     "output_type": "stream",
     "text": [
      "                                                                                \r"
     ]
    },
    {
     "data": {
      "text/plain": [
       "208185"
      ]
     },
     "execution_count": 25,
     "metadata": {},
     "output_type": "execute_result"
    }
   ],
   "source": [
    "auto_cs_colocalisations = (\n",
    "    auto_cs.withColumnRenamed(\"studyLocusId\", \"leftStudyLocusId\")\n",
    "    .alias(\"gwas\")\n",
    "    # Bring study information for the GWAS study\n",
    "    .join(\n",
    "        study.alias(\"gwas_study\"),\n",
    "        on=[f.col(\"gwas_study.studyId\") == f.col(\"gwas.studyId\")],\n",
    "        how=\"inner\",\n",
    "    )\n",
    "    # Bring colocalisation results\n",
    "    .join(\n",
    "        colocalisation.alias(\"colocalisation\").filter(\n",
    "            # Sensible filter for colocalisation results\n",
    "            (f.col(\"clpp\") > 0.01) | (f.col(\"h4\") > 0.8)\n",
    "        ),\n",
    "        on=\"leftStudyLocusId\",\n",
    "        how=\"inner\",\n",
    "    )\n",
    "    # ignore GWAS - GWAS colocalisations\n",
    "    .filter(f.col(\"rightStudyType\") != \"gwas\")\n",
    "    # Bring molQTL credible set information\n",
    "    .join(\n",
    "        credible_set.alias(\"molQTL\").withColumnRenamed(\n",
    "            \"studyLocusId\", \"rightStudyLocusId\"\n",
    "        ),\n",
    "        on=\"rightStudyLocusId\",\n",
    "        how=\"inner\",\n",
    "    )\n",
    "    # Bring study information for the molQTL study\n",
    "    .join(\n",
    "        study.alias(\"molQTL_study\"),\n",
    "        on=[f.col(\"molQTL_study.studyId\") == f.col(\"molQTL.studyId\")],\n",
    "        how=\"inner\",\n",
    "    )\n",
    "    # Add approved symbol for the molQTL gene\n",
    "    .join(\n",
    "        target.select(\"approvedSymbol\", \"id\").alias(\"molQTL_target\"),\n",
    "        on=f.col(\"molQTL_target.id\") == f.col(\"molQTL_study.geneId\"),\n",
    "        how=\"left\",\n",
    "    )\n",
    "    # Add biosample information\n",
    "    .join(\n",
    "        biosample.select(\"biosampleId\", \"biosampleName\").alias(\"molQTL_biosample\"),\n",
    "        on=f.col(\"molQTL_study.biosampleId\") == f.col(\"molQTL_biosample.biosampleId\"),\n",
    "        how=\"left\",\n",
    "    )\n",
    ")\n",
    "# Count of moQTL colocalising with autoimmune disease credible sets across tissues/cell types\n",
    "auto_cs_colocalisations.count()\n"
   ]
  },
  {
   "cell_type": "markdown",
   "id": "2f77b3c1",
   "metadata": {},
   "source": [
    "8. **Select columns of interest to print/write**"
   ]
  },
  {
   "cell_type": "code",
   "execution_count": null,
   "id": "eff3a448",
   "metadata": {},
   "outputs": [
    {
     "name": "stderr",
     "output_type": "stream",
     "text": [
      "[Stage 242:===================================>                   (16 + 9) / 25]\r"
     ]
    },
    {
     "name": "stdout",
     "output_type": "stream",
     "text": [
      "+--------------------------------+------------+---------------------------------+------------------------+---------------------+--------------------+--------------------+-------------------+-------------------+---------------------+--------------------+------------------+--------------------------------+-------------------------------------+---------------+------------------+-----------------+-------------------+---------------------+----------------------+--------------------+---------------------+---------------------+\n",
      "|gwas_credible_set               |gwas_studyId|gwas_trait_from_source           |gwas_publication_journal|gwas_publication_date|gwas_lead_variant_id|gwas_beta           |gwas_pValueMantissa|gwas_pValueExponent|colocalisation_method|colocalisation_clpp |colocalisation_h4 |molQTL_credible_set             |molQTL_studyId                       |molQTL_gene_id |molQTL_gene_symbol|molQTL_study_type|molQTL_biosample_id|molQTL_biosample_name|molQTL_lead_variant_id|molQTL_beta         |molQTL_pValueMantissa|molQTL_pValueExponent|\n",
      "+--------------------------------+------------+---------------------------------+------------------------+---------------------+--------------------+--------------------+-------------------+-------------------+---------------------+--------------------+------------------+--------------------------------+-------------------------------------+---------------+------------------+-----------------+-------------------+---------------------+----------------------+--------------------+---------------------+---------------------+\n",
      "|3c921518a863f304492fdf7eee92eb69|GCST90446792|Crohn's disease                  |Nat Genet               |2023-05-08           |5_131619794_G_A     |0.12039596971640767 |1.7288699          |-23                |COLOC                |NULL                |0.9963633427771593|8c8c94c543192fa1a28806c682cdbfbb|UKB_PPP_EUR_ACADSB_P45954_OID30356_v1|ENSG00000196177|ACADSB            |pqtl             |UBERON_0001969     |blood plasma         |5_131619794_G_A       |-0.04915397716855516|5.1966176            |-20                  |\n",
      "|eae88b74139f7b371a2096c07bc2c625|GCST004131  |Inflammatory bowel disease       |Nat Genet               |2017-01-09           |5_131087866_G_A     |0.031226267912054323|4.8930926          |-15                |COLOC                |NULL                |0.9721310469535147|8c8c94c543192fa1a28806c682cdbfbb|UKB_PPP_EUR_ACADSB_P45954_OID30356_v1|ENSG00000196177|ACADSB            |pqtl             |UBERON_0001969     |blood plasma         |5_131619794_G_A       |-0.04915397716855516|5.1966176            |-20                  |\n",
      "|26b4c5dbd8d5ffe9f5e8be64e1d6cccf|GCST90292538|Inflammatory bowel disease       |Nat Genet               |2023-05-08           |5_131726714_T_C     |0.26430569613936417 |2.5772731          |-17                |COLOC                |NULL                |0.9963359139566093|8c8c94c543192fa1a28806c682cdbfbb|UKB_PPP_EUR_ACADSB_P45954_OID30356_v1|ENSG00000196177|ACADSB            |pqtl             |UBERON_0001969     |blood plasma         |5_131619794_G_A       |-0.04915397716855516|5.1966176            |-20                  |\n",
      "|ef5bbc200a9d2e7d6e7d42d2562deb71|GCST004132  |Crohn's disease                  |Nat Genet               |2017-01-09           |5_131619794_G_A     |0.046375001746877545|1.3413693          |-21                |COLOC                |NULL                |0.9963624015312866|8c8c94c543192fa1a28806c682cdbfbb|UKB_PPP_EUR_ACADSB_P45954_OID30356_v1|ENSG00000196177|ACADSB            |pqtl             |UBERON_0001969     |blood plasma         |5_131619794_G_A       |-0.04915397716855516|5.1966176            |-20                  |\n",
      "|3c921518a863f304492fdf7eee92eb69|GCST90446792|Crohn's disease                  |Nat Genet               |2023-05-08           |5_131619794_G_A     |0.12039596971640767 |1.7288699          |-23                |eCAVIAR              |0.20852616887402323 |NULL              |8c8c94c543192fa1a28806c682cdbfbb|UKB_PPP_EUR_ACADSB_P45954_OID30356_v1|ENSG00000196177|ACADSB            |pqtl             |UBERON_0001969     |blood plasma         |5_131619794_G_A       |-0.04915397716855516|5.1966176            |-20                  |\n",
      "|eae88b74139f7b371a2096c07bc2c625|GCST004131  |Inflammatory bowel disease       |Nat Genet               |2017-01-09           |5_131087866_G_A     |0.031226267912054323|4.8930926          |-15                |eCAVIAR              |0.031197294098264286|NULL              |8c8c94c543192fa1a28806c682cdbfbb|UKB_PPP_EUR_ACADSB_P45954_OID30356_v1|ENSG00000196177|ACADSB            |pqtl             |UBERON_0001969     |blood plasma         |5_131619794_G_A       |-0.04915397716855516|5.1966176            |-20                  |\n",
      "|ef5bbc200a9d2e7d6e7d42d2562deb71|GCST004132  |Crohn's disease                  |Nat Genet               |2017-01-09           |5_131619794_G_A     |0.046375001746877545|1.3413693          |-21                |eCAVIAR              |0.20057529387317602 |NULL              |8c8c94c543192fa1a28806c682cdbfbb|UKB_PPP_EUR_ACADSB_P45954_OID30356_v1|ENSG00000196177|ACADSB            |pqtl             |UBERON_0001969     |blood plasma         |5_131619794_G_A       |-0.04915397716855516|5.1966176            |-20                  |\n",
      "|26b4c5dbd8d5ffe9f5e8be64e1d6cccf|GCST90292538|Inflammatory bowel disease       |Nat Genet               |2023-05-08           |5_131726714_T_C     |0.26430569613936417 |2.5772731          |-17                |eCAVIAR              |0.20729441282221944 |NULL              |8c8c94c543192fa1a28806c682cdbfbb|UKB_PPP_EUR_ACADSB_P45954_OID30356_v1|ENSG00000196177|ACADSB            |pqtl             |UBERON_0001969     |blood plasma         |5_131619794_G_A       |-0.04915397716855516|5.1966176            |-20                  |\n",
      "|c0d93110836c2ca578278c704e2c24f5|GCST90292538|Inflammatory bowel disease       |Nat Genet               |2023-05-08           |5_132358384_T_C     |0.11343180498925758 |1.3071569          |-24                |COLOC                |NULL                |0.9856839098155525|f6166a1a7bc2f3ded34f243ed94fbc67|UKB_PPP_EUR_ACADSB_P45954_OID30356_v1|ENSG00000196177|ACADSB            |pqtl             |UBERON_0001969     |blood plasma         |5_132341354_G_T       |-0.07564460388343004|3.0762744            |-38                  |\n",
      "|474546622058569f648ca9f983371732|GCST90446792|Crohn's disease                  |Nat Genet               |2023-05-08           |5_132358384_T_C     |0.8037413932325661  |9.944268           |-30                |COLOC                |NULL                |0.9856839098083807|f6166a1a7bc2f3ded34f243ed94fbc67|UKB_PPP_EUR_ACADSB_P45954_OID30356_v1|ENSG00000196177|ACADSB            |pqtl             |UBERON_0001969     |blood plasma         |5_132341354_G_T       |-0.07564460388343004|3.0762744            |-38                  |\n",
      "|e44e6a274a31e120fdd3d7439600dff8|GCST90503485|Inflammatory bowel disease (MTAG)|FASEB J                 |2025-01-01           |5_132381358_G_A     |NULL                |2.0                |-15                |eCAVIAR              |0.04564513404750185 |NULL              |f6166a1a7bc2f3ded34f243ed94fbc67|UKB_PPP_EUR_ACADSB_P45954_OID30356_v1|ENSG00000196177|ACADSB            |pqtl             |UBERON_0001969     |blood plasma         |5_132341354_G_T       |-0.07564460388343004|3.0762744            |-38                  |\n",
      "|c0d93110836c2ca578278c704e2c24f5|GCST90292538|Inflammatory bowel disease       |Nat Genet               |2023-05-08           |5_132358384_T_C     |0.11343180498925758 |1.3071569          |-24                |eCAVIAR              |0.06168212979149286 |NULL              |f6166a1a7bc2f3ded34f243ed94fbc67|UKB_PPP_EUR_ACADSB_P45954_OID30356_v1|ENSG00000196177|ACADSB            |pqtl             |UBERON_0001969     |blood plasma         |5_132341354_G_T       |-0.07564460388343004|3.0762744            |-38                  |\n",
      "|474546622058569f648ca9f983371732|GCST90446792|Crohn's disease                  |Nat Genet               |2023-05-08           |5_132358384_T_C     |0.8037413932325661  |9.944268           |-30                |eCAVIAR              |0.06168228529307782 |NULL              |f6166a1a7bc2f3ded34f243ed94fbc67|UKB_PPP_EUR_ACADSB_P45954_OID30356_v1|ENSG00000196177|ACADSB            |pqtl             |UBERON_0001969     |blood plasma         |5_132341354_G_T       |-0.07564460388343004|3.0762744            |-38                  |\n",
      "|aa5800230c6eb693a7f56a845e43c455|GCST90446792|Crohn's disease                  |Nat Genet               |2023-05-08           |5_131087866_G_A     |0.09908277880411435 |6.384014           |-23                |COLOC                |NULL                |0.9940702697793513|cc19643f5fc7713bd7ee39c6059eb5e9|UKB_PPP_EUR_ACADSB_P45954_OID30356_v1|ENSG00000196177|ACADSB            |pqtl             |UBERON_0001969     |blood plasma         |5_131126137_G_T       |-0.05006331460720412|4.3954277            |-19                  |\n",
      "|27a4b29a03a8f7fa920bc9ae33f85c89|GCST004132  |Crohn's disease                  |Nat Genet               |2017-01-09           |5_131087866_G_A     |0.04292663093441085 |4.157236           |-20                |COLOC                |NULL                |0.9940702697792242|cc19643f5fc7713bd7ee39c6059eb5e9|UKB_PPP_EUR_ACADSB_P45954_OID30356_v1|ENSG00000196177|ACADSB            |pqtl             |UBERON_0001969     |blood plasma         |5_131126137_G_T       |-0.05006331460720412|4.3954277            |-19                  |\n",
      "|e5865ba71a7f7e90f137e32ac36193d1|GCST90292538|Inflammatory bowel disease       |Nat Genet               |2023-05-08           |5_131087866_G_A     |0.07883517268551889 |3.6405754          |-19                |COLOC                |NULL                |0.9940702697793513|cc19643f5fc7713bd7ee39c6059eb5e9|UKB_PPP_EUR_ACADSB_P45954_OID30356_v1|ENSG00000196177|ACADSB            |pqtl             |UBERON_0001969     |blood plasma         |5_131126137_G_T       |-0.05006331460720412|4.3954277            |-19                  |\n",
      "|eae88b74139f7b371a2096c07bc2c625|GCST004131  |Inflammatory bowel disease       |Nat Genet               |2017-01-09           |5_131087866_G_A     |0.031226267912054323|4.8930926          |-15                |COLOC                |NULL                |0.9927926618210545|cc19643f5fc7713bd7ee39c6059eb5e9|UKB_PPP_EUR_ACADSB_P45954_OID30356_v1|ENSG00000196177|ACADSB            |pqtl             |UBERON_0001969     |blood plasma         |5_131126137_G_T       |-0.05006331460720412|4.3954277            |-19                  |\n",
      "|e5865ba71a7f7e90f137e32ac36193d1|GCST90292538|Inflammatory bowel disease       |Nat Genet               |2023-05-08           |5_131087866_G_A     |0.07883517268551889 |3.6405754          |-19                |eCAVIAR              |0.1435231621114354  |NULL              |cc19643f5fc7713bd7ee39c6059eb5e9|UKB_PPP_EUR_ACADSB_P45954_OID30356_v1|ENSG00000196177|ACADSB            |pqtl             |UBERON_0001969     |blood plasma         |5_131126137_G_T       |-0.05006331460720412|4.3954277            |-19                  |\n",
      "|aa5800230c6eb693a7f56a845e43c455|GCST90446792|Crohn's disease                  |Nat Genet               |2023-05-08           |5_131087866_G_A     |0.09908277880411435 |6.384014           |-23                |eCAVIAR              |0.1435231621114354  |NULL              |cc19643f5fc7713bd7ee39c6059eb5e9|UKB_PPP_EUR_ACADSB_P45954_OID30356_v1|ENSG00000196177|ACADSB            |pqtl             |UBERON_0001969     |blood plasma         |5_131126137_G_T       |-0.05006331460720412|4.3954277            |-19                  |\n",
      "|eae88b74139f7b371a2096c07bc2c625|GCST004131  |Inflammatory bowel disease       |Nat Genet               |2017-01-09           |5_131087866_G_A     |0.031226267912054323|4.8930926          |-15                |eCAVIAR              |0.11552710054662586 |NULL              |cc19643f5fc7713bd7ee39c6059eb5e9|UKB_PPP_EUR_ACADSB_P45954_OID30356_v1|ENSG00000196177|ACADSB            |pqtl             |UBERON_0001969     |blood plasma         |5_131126137_G_T       |-0.05006331460720412|4.3954277            |-19                  |\n",
      "+--------------------------------+------------+---------------------------------+------------------------+---------------------+--------------------+--------------------+-------------------+-------------------+---------------------+--------------------+------------------+--------------------------------+-------------------------------------+---------------+------------------+-----------------+-------------------+---------------------+----------------------+--------------------+---------------------+---------------------+\n",
      "only showing top 20 rows\n",
      "\n"
     ]
    },
    {
     "name": "stderr",
     "output_type": "stream",
     "text": [
      "                                                                                \r"
     ]
    }
   ],
   "source": [
    "auto_cs_colocalisations_out = auto_cs_colocalisations.select(\n",
    "    f.col(\"gwas.leftStudyLocusId\").alias(\"gwas_credible_set\"),\n",
    "    f.col(\"gwas.studyId\").alias(\"gwas_studyId\"),\n",
    "    f.col(\"gwas_study.traitFromSource\").alias(\"gwas_trait_from_source\"),\n",
    "    f.col(\"gwas_study.publicationJournal\").alias(\"gwas_publication_journal\"),\n",
    "    f.col(\"gwas_study.publicationDate\").alias(\"gwas_publication_date\"),\n",
    "    f.col(\"gwas.variantId\").alias(\"gwas_lead_variant_id\"),\n",
    "    f.col(\"gwas.beta\").alias(\"gwas_beta\"),\n",
    "    f.col(\"gwas.pValueMantissa\").alias(\"gwas_pValueMantissa\"),\n",
    "    f.col(\"gwas.pValueExponent\").alias(\"gwas_pValueExponent\"),\n",
    "    f.col(\"colocalisation.colocalisationMethod\").alias(\"colocalisation_method\"),\n",
    "    f.col(\"colocalisation.clpp\").alias(\"colocalisation_clpp\"),\n",
    "    f.col(\"colocalisation.h4\").alias(\"colocalisation_h4\"),\n",
    "    f.col(\"colocalisation.rightStudyLocusId\").alias(\"molQTL_credible_set\"),\n",
    "    f.col(\"molQTL_study.studyId\").alias(\"molQTL_studyId\"),\n",
    "    f.col(\"molQTL_study.geneId\").alias(\"molQTL_gene_id\"),\n",
    "    f.col(\"molQTL_target.approvedSymbol\").alias(\"molQTL_gene_symbol\"),\n",
    "    f.col(\"molQTL.studyType\").alias(\"molQTL_study_type\"),\n",
    "    f.col(\"molQTL_biosample.biosampleId\").alias(\"molQTL_biosample_id\"),\n",
    "    f.col(\"molQTL_biosample.biosampleName\").alias(\"molQTL_biosample_name\"),\n",
    "    f.col(\"molQTL.variantId\").alias(\"molQTL_lead_variant_id\"),\n",
    "    f.col(\"molQTL.beta\").alias(\"molQTL_beta\"),\n",
    "    f.col(\"molQTL.pValueMantissa\").alias(\"molQTL_pValueMantissa\"),\n",
    "    f.col(\"molQTL.pValueExponent\").alias(\"molQTL_pValueExponent\"),\n",
    ")\n",
    "\n",
    "auto_cs_colocalisations_out.show(truncate=False)\n",
    "\n",
    "# This dataframe can be written to different formats including parquet file:\n",
    "# auto_cs_colocalisations_out.write.parquet(\n",
    "#     str(Path.cwd().joinpath(\"../tmp/autoimmune_colocalisations.parquet\").resolve()),\n",
    "#     mode=\"overwrite\",\n",
    "# )\n",
    "# or csv:\n",
    "# auto_cs_colocalisations_out.coalesce(1).write.csv(\n",
    "#     str(Path.cwd().joinpath(\"../tmp/autoimmune_colocalisations.csv\").resolve()),\n",
    "#     mode=\"overwrite\",\n",
    "#     header=True,\n",
    "# )\n"
   ]
  }
 ],
 "metadata": {
  "kernelspec": {
   "display_name": ".venv",
   "language": "python",
   "name": "python3"
  },
  "language_info": {
   "codemirror_mode": {
    "name": "ipython",
    "version": 3
   },
   "file_extension": ".py",
   "mimetype": "text/x-python",
   "name": "python",
   "nbconvert_exporter": "python",
   "pygments_lexer": "ipython3",
   "version": "3.12.11"
  }
 },
 "nbformat": 4,
 "nbformat_minor": 5
}
